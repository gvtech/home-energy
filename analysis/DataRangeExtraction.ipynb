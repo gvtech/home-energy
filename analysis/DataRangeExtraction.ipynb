{
 "cells": [
  {
   "cell_type": "code",
   "execution_count": 1,
   "metadata": {},
   "outputs": [],
   "source": [
    "import requests\n",
    "import json\n",
    "import pandas as pd"
   ]
  },
  {
   "attachments": {},
   "cell_type": "markdown",
   "metadata": {},
   "source": [
    "## Get the consumption data from backend"
   ]
  },
  {
   "cell_type": "code",
   "execution_count": 2,
   "metadata": {},
   "outputs": [
    {
     "data": {
      "text/plain": [
       "{'message': 'getAllConsumptionByDate',\n",
       " 'data': [{'consumptionDate': '2022-12-30T15:29:28.225Z',\n",
       "   'deviceType': 'oven',\n",
       "   'deviceNumber': 1,\n",
       "   'updatedAt': '2022-12-31T00:40:07.643Z',\n",
       "   'createdAt': '2022-12-31T00:40:07.643Z',\n",
       "   'consumption': [1, 2, 3, 4],\n",
       "   'SK': 'CONSUMPTION#oven',\n",
       "   'details': [],\n",
       "   'PK': 'CONSUMPTION#4c7101e9-cad7-4aae-ae9d-77b451832a58',\n",
       "   'id': '4c7101e9-cad7-4aae-ae9d-77b451832a58'},\n",
       "  {'consumptionDate': '2022-12-30T14:29:28.225Z',\n",
       "   'deviceType': 'washingMachine',\n",
       "   'deviceNumber': 2,\n",
       "   'updatedAt': '2022-12-31T00:40:25.656Z',\n",
       "   'createdAt': '2022-12-31T00:40:25.656Z',\n",
       "   'consumption': [1, 2, 3, 4],\n",
       "   'SK': 'CONSUMPTION#washingMachine',\n",
       "   'details': [],\n",
       "   'PK': 'CONSUMPTION#5ed510ca-592b-4f09-9408-0fa6b361b6d2',\n",
       "   'id': '5ed510ca-592b-4f09-9408-0fa6b361b6d2'},\n",
       "  {'consumptionDate': '2022-12-30T19:29:28.225Z',\n",
       "   'deviceType': 'washingMachine',\n",
       "   'deviceNumber': 2,\n",
       "   'updatedAt': '2022-12-31T00:40:34.018Z',\n",
       "   'createdAt': '2022-12-31T00:40:34.018Z',\n",
       "   'consumption': [1, 2, 3, 4],\n",
       "   'SK': 'CONSUMPTION#washingMachine',\n",
       "   'details': [],\n",
       "   'PK': 'CONSUMPTION#fa451b84-cbf7-4b12-b2d8-992ddcdcd870',\n",
       "   'id': 'fa451b84-cbf7-4b12-b2d8-992ddcdcd870'}]}"
      ]
     },
     "execution_count": 2,
     "metadata": {},
     "output_type": "execute_result"
    }
   ],
   "source": [
    "startDate=\"2022-12-01\"\n",
    "backendUrl=f\"https://exj7xp8iog.execute-api.eu-west-3.amazonaws.com/laurent/getAll/consumption?startDate={startDate}\"\n",
    "message=requests.get(backendUrl).json()\n",
    "message"
   ]
  },
  {
   "cell_type": "code",
   "execution_count": 3,
   "metadata": {},
   "outputs": [
    {
     "data": {
      "text/html": [
       "<div>\n",
       "<style scoped>\n",
       "    .dataframe tbody tr th:only-of-type {\n",
       "        vertical-align: middle;\n",
       "    }\n",
       "\n",
       "    .dataframe tbody tr th {\n",
       "        vertical-align: top;\n",
       "    }\n",
       "\n",
       "    .dataframe thead th {\n",
       "        text-align: right;\n",
       "    }\n",
       "</style>\n",
       "<table border=\"1\" class=\"dataframe\">\n",
       "  <thead>\n",
       "    <tr style=\"text-align: right;\">\n",
       "      <th></th>\n",
       "      <th>consumptionDate</th>\n",
       "      <th>deviceType</th>\n",
       "      <th>deviceNumber</th>\n",
       "      <th>updatedAt</th>\n",
       "      <th>createdAt</th>\n",
       "      <th>consumption</th>\n",
       "      <th>SK</th>\n",
       "      <th>details</th>\n",
       "      <th>PK</th>\n",
       "      <th>id</th>\n",
       "      <th>kwh</th>\n",
       "    </tr>\n",
       "  </thead>\n",
       "  <tbody>\n",
       "    <tr>\n",
       "      <th>0</th>\n",
       "      <td>2022-12-30T15:29:28.225Z</td>\n",
       "      <td>oven</td>\n",
       "      <td>1</td>\n",
       "      <td>2022-12-31T00:40:07.643Z</td>\n",
       "      <td>2022-12-31T00:40:07.643Z</td>\n",
       "      <td>[1, 2, 3, 4]</td>\n",
       "      <td>CONSUMPTION#oven</td>\n",
       "      <td>[]</td>\n",
       "      <td>CONSUMPTION#4c7101e9-cad7-4aae-ae9d-77b451832a58</td>\n",
       "      <td>4c7101e9-cad7-4aae-ae9d-77b451832a58</td>\n",
       "      <td>10</td>\n",
       "    </tr>\n",
       "    <tr>\n",
       "      <th>1</th>\n",
       "      <td>2022-12-30T14:29:28.225Z</td>\n",
       "      <td>washingMachine</td>\n",
       "      <td>2</td>\n",
       "      <td>2022-12-31T00:40:25.656Z</td>\n",
       "      <td>2022-12-31T00:40:25.656Z</td>\n",
       "      <td>[1, 2, 3, 4]</td>\n",
       "      <td>CONSUMPTION#washingMachine</td>\n",
       "      <td>[]</td>\n",
       "      <td>CONSUMPTION#5ed510ca-592b-4f09-9408-0fa6b361b6d2</td>\n",
       "      <td>5ed510ca-592b-4f09-9408-0fa6b361b6d2</td>\n",
       "      <td>10</td>\n",
       "    </tr>\n",
       "    <tr>\n",
       "      <th>2</th>\n",
       "      <td>2022-12-30T19:29:28.225Z</td>\n",
       "      <td>washingMachine</td>\n",
       "      <td>2</td>\n",
       "      <td>2022-12-31T00:40:34.018Z</td>\n",
       "      <td>2022-12-31T00:40:34.018Z</td>\n",
       "      <td>[1, 2, 3, 4]</td>\n",
       "      <td>CONSUMPTION#washingMachine</td>\n",
       "      <td>[]</td>\n",
       "      <td>CONSUMPTION#fa451b84-cbf7-4b12-b2d8-992ddcdcd870</td>\n",
       "      <td>fa451b84-cbf7-4b12-b2d8-992ddcdcd870</td>\n",
       "      <td>10</td>\n",
       "    </tr>\n",
       "  </tbody>\n",
       "</table>\n",
       "</div>"
      ],
      "text/plain": [
       "            consumptionDate      deviceType  deviceNumber  \\\n",
       "0  2022-12-30T15:29:28.225Z            oven             1   \n",
       "1  2022-12-30T14:29:28.225Z  washingMachine             2   \n",
       "2  2022-12-30T19:29:28.225Z  washingMachine             2   \n",
       "\n",
       "                  updatedAt                 createdAt   consumption  \\\n",
       "0  2022-12-31T00:40:07.643Z  2022-12-31T00:40:07.643Z  [1, 2, 3, 4]   \n",
       "1  2022-12-31T00:40:25.656Z  2022-12-31T00:40:25.656Z  [1, 2, 3, 4]   \n",
       "2  2022-12-31T00:40:34.018Z  2022-12-31T00:40:34.018Z  [1, 2, 3, 4]   \n",
       "\n",
       "                           SK details  \\\n",
       "0            CONSUMPTION#oven      []   \n",
       "1  CONSUMPTION#washingMachine      []   \n",
       "2  CONSUMPTION#washingMachine      []   \n",
       "\n",
       "                                                 PK  \\\n",
       "0  CONSUMPTION#4c7101e9-cad7-4aae-ae9d-77b451832a58   \n",
       "1  CONSUMPTION#5ed510ca-592b-4f09-9408-0fa6b361b6d2   \n",
       "2  CONSUMPTION#fa451b84-cbf7-4b12-b2d8-992ddcdcd870   \n",
       "\n",
       "                                     id  kwh  \n",
       "0  4c7101e9-cad7-4aae-ae9d-77b451832a58   10  \n",
       "1  5ed510ca-592b-4f09-9408-0fa6b361b6d2   10  \n",
       "2  fa451b84-cbf7-4b12-b2d8-992ddcdcd870   10  "
      ]
     },
     "execution_count": 3,
     "metadata": {},
     "output_type": "execute_result"
    }
   ],
   "source": [
    "data=pd.DataFrame(message[\"data\"])\n",
    "data.loc[:,\"kwh\"]=[ sum(c) for c in data.consumption]\n",
    "\n",
    "data"
   ]
  },
  {
   "cell_type": "code",
   "execution_count": 4,
   "metadata": {},
   "outputs": [
    {
     "data": {
      "text/plain": [
       "<AxesSubplot:xlabel='consumptionDate'>"
      ]
     },
     "execution_count": 4,
     "metadata": {},
     "output_type": "execute_result"
    },
    {
     "data": {
      "image/png": "[encoded data removed]",
      "text/plain": [
       "<Figure size 720x360 with 1 Axes>"
      ]
     },
     "metadata": {
      "needs_background": "light"
     },
     "output_type": "display_data"
    }
   ],
   "source": [
    "data.groupby([\"consumptionDate\",\"deviceType\"]).agg(kwh=(\"kwh\",\"sum\")).unstack().fillna(0).plot.bar(figsize=(10,5))"
   ]
  },
  {
   "cell_type": "code",
   "execution_count": 5,
   "metadata": {},
   "outputs": [
    {
     "data": {
      "text/html": [
       "<div>\n",
       "<style scoped>\n",
       "    .dataframe tbody tr th:only-of-type {\n",
       "        vertical-align: middle;\n",
       "    }\n",
       "\n",
       "    .dataframe tbody tr th {\n",
       "        vertical-align: top;\n",
       "    }\n",
       "\n",
       "    .dataframe thead tr th {\n",
       "        text-align: left;\n",
       "    }\n",
       "\n",
       "    .dataframe thead tr:last-of-type th {\n",
       "        text-align: right;\n",
       "    }\n",
       "</style>\n",
       "<table border=\"1\" class=\"dataframe\">\n",
       "  <thead>\n",
       "    <tr>\n",
       "      <th></th>\n",
       "      <th colspan=\"2\" halign=\"left\">kwh</th>\n",
       "    </tr>\n",
       "    <tr>\n",
       "      <th>deviceType</th>\n",
       "      <th>oven</th>\n",
       "      <th>washingMachine</th>\n",
       "    </tr>\n",
       "    <tr>\n",
       "      <th>consumptionDate</th>\n",
       "      <th></th>\n",
       "      <th></th>\n",
       "    </tr>\n",
       "  </thead>\n",
       "  <tbody>\n",
       "    <tr>\n",
       "      <th>2022-12-30T14:29:28.225Z</th>\n",
       "      <td>NaN</td>\n",
       "      <td>10.0</td>\n",
       "    </tr>\n",
       "    <tr>\n",
       "      <th>2022-12-30T15:29:28.225Z</th>\n",
       "      <td>10.0</td>\n",
       "      <td>NaN</td>\n",
       "    </tr>\n",
       "    <tr>\n",
       "      <th>2022-12-30T19:29:28.225Z</th>\n",
       "      <td>NaN</td>\n",
       "      <td>10.0</td>\n",
       "    </tr>\n",
       "  </tbody>\n",
       "</table>\n",
       "</div>"
      ],
      "text/plain": [
       "                           kwh               \n",
       "deviceType                oven washingMachine\n",
       "consumptionDate                              \n",
       "2022-12-30T14:29:28.225Z   NaN           10.0\n",
       "2022-12-30T15:29:28.225Z  10.0            NaN\n",
       "2022-12-30T19:29:28.225Z   NaN           10.0"
      ]
     },
     "execution_count": 5,
     "metadata": {},
     "output_type": "execute_result"
    }
   ],
   "source": [
    "data.groupby([\"consumptionDate\",\"deviceType\"]).agg(kwh=(\"kwh\",\"sum\")).unstack()"
   ]
  },
  {
   "cell_type": "code",
   "execution_count": null,
   "metadata": {},
   "outputs": [],
   "source": []
  }
 ],
 "metadata": {
  "kernelspec": {
   "display_name": "diy",
   "language": "python",
   "name": "python3"
  },
  "language_info": {
   "codemirror_mode": {
    "name": "ipython",
    "version": 3
   },
   "file_extension": ".py",
   "mimetype": "text/x-python",
   "name": "python",
   "nbconvert_exporter": "python",
   "pygments_lexer": "ipython3",
   "version": "3.9.10"
  },
  "orig_nbformat": 4,
  "vscode": {
   "interpreter": {
    "hash": "49e9a17f76932f0cb11e99c677f931348dbd380cd0bb0dd16a057ce9ccf38ce4"
   }
  }
 },
 "nbformat": 4,
 "nbformat_minor": 2
}
