{
 "cells": [
  {
   "cell_type": "code",
   "execution_count": 27,
   "metadata": {},
   "outputs": [],
   "source": [
    "import requests\n",
    "from datetime import datetime\n",
    "import json\n",
    "import pandas as pd"
   ]
  },
  {
   "attachments": {},
   "cell_type": "markdown",
   "metadata": {},
   "source": [
    "# Test the different endpoint from the API"
   ]
  },
  {
   "cell_type": "code",
   "execution_count": 28,
   "metadata": {},
   "outputs": [],
   "source": [
    "backendUrl=\"https://exj7xp8iog.execute-api.eu-west-3.amazonaws.com/laurent\"\n"
   ]
  },
  {
   "attachments": {},
   "cell_type": "markdown",
   "metadata": {},
   "source": [
    "### Create a consumption record"
   ]
  },
  {
   "cell_type": "code",
   "execution_count": 30,
   "metadata": {},
   "outputs": [
    {
     "name": "stdout",
     "output_type": "stream",
     "text": [
      "0 200\n",
      "1 200\n",
      "2 200\n",
      "3 200\n",
      "4 200\n"
     ]
    }
   ],
   "source": [
    "from random import randrange\n",
    "def get_consumption(device,ts):\n",
    "    return {\n",
    "        \"consumptionDate\":ts,\n",
    "        \"consumption\": [randrange(10,3000) for _ in range(5)],\n",
    "        \"deviceNumber\": device,\n",
    "        \"details\": [randrange(100,300) for _ in range(5)]\n",
    "        }\n",
    "\n",
    "ts=datetime.now().isoformat()\n",
    "for device in range(0,5):\n",
    "    data=json.dumps(get_consumption(device,ts))\n",
    "    url=f\"{backendUrl}/create/consumption\"\n",
    "    rq=requests.post(url,data)\n",
    "    print(device,rq.status_code)"
   ]
  },
  {
   "cell_type": "code",
   "execution_count": 7,
   "metadata": {},
   "outputs": [
    {
     "data": {
      "text/plain": [
       "'{\"consumptionDate\": \"2023-01-07T16:10:57.619879\", \"consumption\": [2180, 178, 63, 1129, 1035], \"deviceNumber\": 1, \"details\": [256, 267, 205, 241, 244]}'"
      ]
     },
     "execution_count": 7,
     "metadata": {},
     "output_type": "execute_result"
    }
   ],
   "source": [
    "data"
   ]
  },
  {
   "cell_type": "code",
   "execution_count": 29,
   "metadata": {},
   "outputs": [
    {
     "ename": "ConnectionError",
     "evalue": "HTTPConnectionPool(host='localhost', port=8000): Max retries exceeded with url: /create/Consumption (Caused by NewConnectionError('<urllib3.connection.HTTPConnection object at 0x13ed69df0>: Failed to establish a new connection: [Errno 61] Connection refused'))",
     "output_type": "error",
     "traceback": [
      "\u001b[0;31m---------------------------------------------------------------------------\u001b[0m",
      "\u001b[0;31mConnectionRefusedError\u001b[0m                    Traceback (most recent call last)",
      "File \u001b[0;32m~/miniforge3/envs/diy/lib/python3.9/site-packages/urllib3/connection.py:174\u001b[0m, in \u001b[0;36mHTTPConnection._new_conn\u001b[0;34m(self)\u001b[0m\n\u001b[1;32m    173\u001b[0m \u001b[39mtry\u001b[39;00m:\n\u001b[0;32m--> 174\u001b[0m     conn \u001b[39m=\u001b[39m connection\u001b[39m.\u001b[39;49mcreate_connection(\n\u001b[1;32m    175\u001b[0m         (\u001b[39mself\u001b[39;49m\u001b[39m.\u001b[39;49m_dns_host, \u001b[39mself\u001b[39;49m\u001b[39m.\u001b[39;49mport), \u001b[39mself\u001b[39;49m\u001b[39m.\u001b[39;49mtimeout, \u001b[39m*\u001b[39;49m\u001b[39m*\u001b[39;49mextra_kw\n\u001b[1;32m    176\u001b[0m     )\n\u001b[1;32m    178\u001b[0m \u001b[39mexcept\u001b[39;00m SocketTimeout:\n",
      "File \u001b[0;32m~/miniforge3/envs/diy/lib/python3.9/site-packages/urllib3/util/connection.py:95\u001b[0m, in \u001b[0;36mcreate_connection\u001b[0;34m(address, timeout, source_address, socket_options)\u001b[0m\n\u001b[1;32m     94\u001b[0m \u001b[39mif\u001b[39;00m err \u001b[39mis\u001b[39;00m \u001b[39mnot\u001b[39;00m \u001b[39mNone\u001b[39;00m:\n\u001b[0;32m---> 95\u001b[0m     \u001b[39mraise\u001b[39;00m err\n\u001b[1;32m     97\u001b[0m \u001b[39mraise\u001b[39;00m socket\u001b[39m.\u001b[39merror(\u001b[39m\"\u001b[39m\u001b[39mgetaddrinfo returns an empty list\u001b[39m\u001b[39m\"\u001b[39m)\n",
      "File \u001b[0;32m~/miniforge3/envs/diy/lib/python3.9/site-packages/urllib3/util/connection.py:85\u001b[0m, in \u001b[0;36mcreate_connection\u001b[0;34m(address, timeout, source_address, socket_options)\u001b[0m\n\u001b[1;32m     84\u001b[0m     sock\u001b[39m.\u001b[39mbind(source_address)\n\u001b[0;32m---> 85\u001b[0m sock\u001b[39m.\u001b[39;49mconnect(sa)\n\u001b[1;32m     86\u001b[0m \u001b[39mreturn\u001b[39;00m sock\n",
      "\u001b[0;31mConnectionRefusedError\u001b[0m: [Errno 61] Connection refused",
      "\nDuring handling of the above exception, another exception occurred:\n",
      "\u001b[0;31mNewConnectionError\u001b[0m                        Traceback (most recent call last)",
      "File \u001b[0;32m~/miniforge3/envs/diy/lib/python3.9/site-packages/urllib3/connectionpool.py:703\u001b[0m, in \u001b[0;36mHTTPConnectionPool.urlopen\u001b[0;34m(self, method, url, body, headers, retries, redirect, assert_same_host, timeout, pool_timeout, release_conn, chunked, body_pos, **response_kw)\u001b[0m\n\u001b[1;32m    702\u001b[0m \u001b[39m# Make the request on the httplib connection object.\u001b[39;00m\n\u001b[0;32m--> 703\u001b[0m httplib_response \u001b[39m=\u001b[39m \u001b[39mself\u001b[39;49m\u001b[39m.\u001b[39;49m_make_request(\n\u001b[1;32m    704\u001b[0m     conn,\n\u001b[1;32m    705\u001b[0m     method,\n\u001b[1;32m    706\u001b[0m     url,\n\u001b[1;32m    707\u001b[0m     timeout\u001b[39m=\u001b[39;49mtimeout_obj,\n\u001b[1;32m    708\u001b[0m     body\u001b[39m=\u001b[39;49mbody,\n\u001b[1;32m    709\u001b[0m     headers\u001b[39m=\u001b[39;49mheaders,\n\u001b[1;32m    710\u001b[0m     chunked\u001b[39m=\u001b[39;49mchunked,\n\u001b[1;32m    711\u001b[0m )\n\u001b[1;32m    713\u001b[0m \u001b[39m# If we're going to release the connection in ``finally:``, then\u001b[39;00m\n\u001b[1;32m    714\u001b[0m \u001b[39m# the response doesn't need to know about the connection. Otherwise\u001b[39;00m\n\u001b[1;32m    715\u001b[0m \u001b[39m# it will also try to release it and we'll have a double-release\u001b[39;00m\n\u001b[1;32m    716\u001b[0m \u001b[39m# mess.\u001b[39;00m\n",
      "File \u001b[0;32m~/miniforge3/envs/diy/lib/python3.9/site-packages/urllib3/connectionpool.py:398\u001b[0m, in \u001b[0;36mHTTPConnectionPool._make_request\u001b[0;34m(self, conn, method, url, timeout, chunked, **httplib_request_kw)\u001b[0m\n\u001b[1;32m    397\u001b[0m     \u001b[39melse\u001b[39;00m:\n\u001b[0;32m--> 398\u001b[0m         conn\u001b[39m.\u001b[39;49mrequest(method, url, \u001b[39m*\u001b[39;49m\u001b[39m*\u001b[39;49mhttplib_request_kw)\n\u001b[1;32m    400\u001b[0m \u001b[39m# We are swallowing BrokenPipeError (errno.EPIPE) since the server is\u001b[39;00m\n\u001b[1;32m    401\u001b[0m \u001b[39m# legitimately able to close the connection after sending a valid response.\u001b[39;00m\n\u001b[1;32m    402\u001b[0m \u001b[39m# With this behaviour, the received response is still readable.\u001b[39;00m\n",
      "File \u001b[0;32m~/miniforge3/envs/diy/lib/python3.9/site-packages/urllib3/connection.py:239\u001b[0m, in \u001b[0;36mHTTPConnection.request\u001b[0;34m(self, method, url, body, headers)\u001b[0m\n\u001b[1;32m    238\u001b[0m     headers[\u001b[39m\"\u001b[39m\u001b[39mUser-Agent\u001b[39m\u001b[39m\"\u001b[39m] \u001b[39m=\u001b[39m _get_default_user_agent()\n\u001b[0;32m--> 239\u001b[0m \u001b[39msuper\u001b[39;49m(HTTPConnection, \u001b[39mself\u001b[39;49m)\u001b[39m.\u001b[39;49mrequest(method, url, body\u001b[39m=\u001b[39;49mbody, headers\u001b[39m=\u001b[39;49mheaders)\n",
      "File \u001b[0;32m~/miniforge3/envs/diy/lib/python3.9/http/client.py:1285\u001b[0m, in \u001b[0;36mHTTPConnection.request\u001b[0;34m(self, method, url, body, headers, encode_chunked)\u001b[0m\n\u001b[1;32m   1284\u001b[0m \u001b[39m\"\"\"Send a complete request to the server.\"\"\"\u001b[39;00m\n\u001b[0;32m-> 1285\u001b[0m \u001b[39mself\u001b[39;49m\u001b[39m.\u001b[39;49m_send_request(method, url, body, headers, encode_chunked)\n",
      "File \u001b[0;32m~/miniforge3/envs/diy/lib/python3.9/http/client.py:1331\u001b[0m, in \u001b[0;36mHTTPConnection._send_request\u001b[0;34m(self, method, url, body, headers, encode_chunked)\u001b[0m\n\u001b[1;32m   1330\u001b[0m     body \u001b[39m=\u001b[39m _encode(body, \u001b[39m'\u001b[39m\u001b[39mbody\u001b[39m\u001b[39m'\u001b[39m)\n\u001b[0;32m-> 1331\u001b[0m \u001b[39mself\u001b[39;49m\u001b[39m.\u001b[39;49mendheaders(body, encode_chunked\u001b[39m=\u001b[39;49mencode_chunked)\n",
      "File \u001b[0;32m~/miniforge3/envs/diy/lib/python3.9/http/client.py:1280\u001b[0m, in \u001b[0;36mHTTPConnection.endheaders\u001b[0;34m(self, message_body, encode_chunked)\u001b[0m\n\u001b[1;32m   1279\u001b[0m     \u001b[39mraise\u001b[39;00m CannotSendHeader()\n\u001b[0;32m-> 1280\u001b[0m \u001b[39mself\u001b[39;49m\u001b[39m.\u001b[39;49m_send_output(message_body, encode_chunked\u001b[39m=\u001b[39;49mencode_chunked)\n",
      "File \u001b[0;32m~/miniforge3/envs/diy/lib/python3.9/http/client.py:1040\u001b[0m, in \u001b[0;36mHTTPConnection._send_output\u001b[0;34m(self, message_body, encode_chunked)\u001b[0m\n\u001b[1;32m   1039\u001b[0m \u001b[39mdel\u001b[39;00m \u001b[39mself\u001b[39m\u001b[39m.\u001b[39m_buffer[:]\n\u001b[0;32m-> 1040\u001b[0m \u001b[39mself\u001b[39;49m\u001b[39m.\u001b[39;49msend(msg)\n\u001b[1;32m   1042\u001b[0m \u001b[39mif\u001b[39;00m message_body \u001b[39mis\u001b[39;00m \u001b[39mnot\u001b[39;00m \u001b[39mNone\u001b[39;00m:\n\u001b[1;32m   1043\u001b[0m \n\u001b[1;32m   1044\u001b[0m     \u001b[39m# create a consistent interface to message_body\u001b[39;00m\n",
      "File \u001b[0;32m~/miniforge3/envs/diy/lib/python3.9/http/client.py:980\u001b[0m, in \u001b[0;36mHTTPConnection.send\u001b[0;34m(self, data)\u001b[0m\n\u001b[1;32m    979\u001b[0m \u001b[39mif\u001b[39;00m \u001b[39mself\u001b[39m\u001b[39m.\u001b[39mauto_open:\n\u001b[0;32m--> 980\u001b[0m     \u001b[39mself\u001b[39;49m\u001b[39m.\u001b[39;49mconnect()\n\u001b[1;32m    981\u001b[0m \u001b[39melse\u001b[39;00m:\n",
      "File \u001b[0;32m~/miniforge3/envs/diy/lib/python3.9/site-packages/urllib3/connection.py:205\u001b[0m, in \u001b[0;36mHTTPConnection.connect\u001b[0;34m(self)\u001b[0m\n\u001b[1;32m    204\u001b[0m \u001b[39mdef\u001b[39;00m \u001b[39mconnect\u001b[39m(\u001b[39mself\u001b[39m):\n\u001b[0;32m--> 205\u001b[0m     conn \u001b[39m=\u001b[39m \u001b[39mself\u001b[39;49m\u001b[39m.\u001b[39;49m_new_conn()\n\u001b[1;32m    206\u001b[0m     \u001b[39mself\u001b[39m\u001b[39m.\u001b[39m_prepare_conn(conn)\n",
      "File \u001b[0;32m~/miniforge3/envs/diy/lib/python3.9/site-packages/urllib3/connection.py:186\u001b[0m, in \u001b[0;36mHTTPConnection._new_conn\u001b[0;34m(self)\u001b[0m\n\u001b[1;32m    185\u001b[0m \u001b[39mexcept\u001b[39;00m SocketError \u001b[39mas\u001b[39;00m e:\n\u001b[0;32m--> 186\u001b[0m     \u001b[39mraise\u001b[39;00m NewConnectionError(\n\u001b[1;32m    187\u001b[0m         \u001b[39mself\u001b[39m, \u001b[39m\"\u001b[39m\u001b[39mFailed to establish a new connection: \u001b[39m\u001b[39m%s\u001b[39;00m\u001b[39m\"\u001b[39m \u001b[39m%\u001b[39m e\n\u001b[1;32m    188\u001b[0m     )\n\u001b[1;32m    190\u001b[0m \u001b[39mreturn\u001b[39;00m conn\n",
      "\u001b[0;31mNewConnectionError\u001b[0m: <urllib3.connection.HTTPConnection object at 0x13ed69df0>: Failed to establish a new connection: [Errno 61] Connection refused",
      "\nDuring handling of the above exception, another exception occurred:\n",
      "\u001b[0;31mMaxRetryError\u001b[0m                             Traceback (most recent call last)",
      "File \u001b[0;32m~/miniforge3/envs/diy/lib/python3.9/site-packages/requests/adapters.py:440\u001b[0m, in \u001b[0;36mHTTPAdapter.send\u001b[0;34m(self, request, stream, timeout, verify, cert, proxies)\u001b[0m\n\u001b[1;32m    439\u001b[0m \u001b[39mif\u001b[39;00m \u001b[39mnot\u001b[39;00m chunked:\n\u001b[0;32m--> 440\u001b[0m     resp \u001b[39m=\u001b[39m conn\u001b[39m.\u001b[39;49murlopen(\n\u001b[1;32m    441\u001b[0m         method\u001b[39m=\u001b[39;49mrequest\u001b[39m.\u001b[39;49mmethod,\n\u001b[1;32m    442\u001b[0m         url\u001b[39m=\u001b[39;49murl,\n\u001b[1;32m    443\u001b[0m         body\u001b[39m=\u001b[39;49mrequest\u001b[39m.\u001b[39;49mbody,\n\u001b[1;32m    444\u001b[0m         headers\u001b[39m=\u001b[39;49mrequest\u001b[39m.\u001b[39;49mheaders,\n\u001b[1;32m    445\u001b[0m         redirect\u001b[39m=\u001b[39;49m\u001b[39mFalse\u001b[39;49;00m,\n\u001b[1;32m    446\u001b[0m         assert_same_host\u001b[39m=\u001b[39;49m\u001b[39mFalse\u001b[39;49;00m,\n\u001b[1;32m    447\u001b[0m         preload_content\u001b[39m=\u001b[39;49m\u001b[39mFalse\u001b[39;49;00m,\n\u001b[1;32m    448\u001b[0m         decode_content\u001b[39m=\u001b[39;49m\u001b[39mFalse\u001b[39;49;00m,\n\u001b[1;32m    449\u001b[0m         retries\u001b[39m=\u001b[39;49m\u001b[39mself\u001b[39;49m\u001b[39m.\u001b[39;49mmax_retries,\n\u001b[1;32m    450\u001b[0m         timeout\u001b[39m=\u001b[39;49mtimeout\n\u001b[1;32m    451\u001b[0m     )\n\u001b[1;32m    453\u001b[0m \u001b[39m# Send the request.\u001b[39;00m\n\u001b[1;32m    454\u001b[0m \u001b[39melse\u001b[39;00m:\n",
      "File \u001b[0;32m~/miniforge3/envs/diy/lib/python3.9/site-packages/urllib3/connectionpool.py:785\u001b[0m, in \u001b[0;36mHTTPConnectionPool.urlopen\u001b[0;34m(self, method, url, body, headers, retries, redirect, assert_same_host, timeout, pool_timeout, release_conn, chunked, body_pos, **response_kw)\u001b[0m\n\u001b[1;32m    783\u001b[0m     e \u001b[39m=\u001b[39m ProtocolError(\u001b[39m\"\u001b[39m\u001b[39mConnection aborted.\u001b[39m\u001b[39m\"\u001b[39m, e)\n\u001b[0;32m--> 785\u001b[0m retries \u001b[39m=\u001b[39m retries\u001b[39m.\u001b[39;49mincrement(\n\u001b[1;32m    786\u001b[0m     method, url, error\u001b[39m=\u001b[39;49me, _pool\u001b[39m=\u001b[39;49m\u001b[39mself\u001b[39;49m, _stacktrace\u001b[39m=\u001b[39;49msys\u001b[39m.\u001b[39;49mexc_info()[\u001b[39m2\u001b[39;49m]\n\u001b[1;32m    787\u001b[0m )\n\u001b[1;32m    788\u001b[0m retries\u001b[39m.\u001b[39msleep()\n",
      "File \u001b[0;32m~/miniforge3/envs/diy/lib/python3.9/site-packages/urllib3/util/retry.py:592\u001b[0m, in \u001b[0;36mRetry.increment\u001b[0;34m(self, method, url, response, error, _pool, _stacktrace)\u001b[0m\n\u001b[1;32m    591\u001b[0m \u001b[39mif\u001b[39;00m new_retry\u001b[39m.\u001b[39mis_exhausted():\n\u001b[0;32m--> 592\u001b[0m     \u001b[39mraise\u001b[39;00m MaxRetryError(_pool, url, error \u001b[39mor\u001b[39;00m ResponseError(cause))\n\u001b[1;32m    594\u001b[0m log\u001b[39m.\u001b[39mdebug(\u001b[39m\"\u001b[39m\u001b[39mIncremented Retry for (url=\u001b[39m\u001b[39m'\u001b[39m\u001b[39m%s\u001b[39;00m\u001b[39m'\u001b[39m\u001b[39m): \u001b[39m\u001b[39m%r\u001b[39;00m\u001b[39m\"\u001b[39m, url, new_retry)\n",
      "\u001b[0;31mMaxRetryError\u001b[0m: HTTPConnectionPool(host='localhost', port=8000): Max retries exceeded with url: /create/Consumption (Caused by NewConnectionError('<urllib3.connection.HTTPConnection object at 0x13ed69df0>: Failed to establish a new connection: [Errno 61] Connection refused'))",
      "\nDuring handling of the above exception, another exception occurred:\n",
      "\u001b[0;31mConnectionError\u001b[0m                           Traceback (most recent call last)",
      "\u001b[1;32m/Users/gillesv/DIY/Projects/home-energy/analysis/TestEndPoints.ipynb Cell 7\u001b[0m in \u001b[0;36m<cell line: 1>\u001b[0;34m()\u001b[0m\n\u001b[0;32m----> <a href='vscode-notebook-cell:/Users/gillesv/DIY/Projects/home-energy/analysis/TestEndPoints.ipynb#W6sZmlsZQ%3D%3D?line=0'>1</a>\u001b[0m rq\u001b[39m=\u001b[39mrequests\u001b[39m.\u001b[39;49mpost(\u001b[39m\"\u001b[39;49m\u001b[39mhttp://localhost:8000/create/Consumption\u001b[39;49m\u001b[39m\"\u001b[39;49m,\u001b[39m\"\u001b[39;49m\u001b[39m[]\u001b[39;49m\u001b[39m\"\u001b[39;49m)\n\u001b[1;32m      <a href='vscode-notebook-cell:/Users/gillesv/DIY/Projects/home-energy/analysis/TestEndPoints.ipynb#W6sZmlsZQ%3D%3D?line=1'>2</a>\u001b[0m rq\n",
      "File \u001b[0;32m~/miniforge3/envs/diy/lib/python3.9/site-packages/requests/api.py:117\u001b[0m, in \u001b[0;36mpost\u001b[0;34m(url, data, json, **kwargs)\u001b[0m\n\u001b[1;32m    105\u001b[0m \u001b[39mdef\u001b[39;00m \u001b[39mpost\u001b[39m(url, data\u001b[39m=\u001b[39m\u001b[39mNone\u001b[39;00m, json\u001b[39m=\u001b[39m\u001b[39mNone\u001b[39;00m, \u001b[39m*\u001b[39m\u001b[39m*\u001b[39mkwargs):\n\u001b[1;32m    106\u001b[0m     \u001b[39mr\u001b[39m\u001b[39m\"\"\"Sends a POST request.\u001b[39;00m\n\u001b[1;32m    107\u001b[0m \n\u001b[1;32m    108\u001b[0m \u001b[39m    :param url: URL for the new :class:`Request` object.\u001b[39;00m\n\u001b[0;32m   (...)\u001b[0m\n\u001b[1;32m    114\u001b[0m \u001b[39m    :rtype: requests.Response\u001b[39;00m\n\u001b[1;32m    115\u001b[0m \u001b[39m    \"\"\"\u001b[39;00m\n\u001b[0;32m--> 117\u001b[0m     \u001b[39mreturn\u001b[39;00m request(\u001b[39m'\u001b[39;49m\u001b[39mpost\u001b[39;49m\u001b[39m'\u001b[39;49m, url, data\u001b[39m=\u001b[39;49mdata, json\u001b[39m=\u001b[39;49mjson, \u001b[39m*\u001b[39;49m\u001b[39m*\u001b[39;49mkwargs)\n",
      "File \u001b[0;32m~/miniforge3/envs/diy/lib/python3.9/site-packages/requests/api.py:61\u001b[0m, in \u001b[0;36mrequest\u001b[0;34m(method, url, **kwargs)\u001b[0m\n\u001b[1;32m     57\u001b[0m \u001b[39m# By using the 'with' statement we are sure the session is closed, thus we\u001b[39;00m\n\u001b[1;32m     58\u001b[0m \u001b[39m# avoid leaving sockets open which can trigger a ResourceWarning in some\u001b[39;00m\n\u001b[1;32m     59\u001b[0m \u001b[39m# cases, and look like a memory leak in others.\u001b[39;00m\n\u001b[1;32m     60\u001b[0m \u001b[39mwith\u001b[39;00m sessions\u001b[39m.\u001b[39mSession() \u001b[39mas\u001b[39;00m session:\n\u001b[0;32m---> 61\u001b[0m     \u001b[39mreturn\u001b[39;00m session\u001b[39m.\u001b[39;49mrequest(method\u001b[39m=\u001b[39;49mmethod, url\u001b[39m=\u001b[39;49murl, \u001b[39m*\u001b[39;49m\u001b[39m*\u001b[39;49mkwargs)\n",
      "File \u001b[0;32m~/miniforge3/envs/diy/lib/python3.9/site-packages/requests/sessions.py:529\u001b[0m, in \u001b[0;36mSession.request\u001b[0;34m(self, method, url, params, data, headers, cookies, files, auth, timeout, allow_redirects, proxies, hooks, stream, verify, cert, json)\u001b[0m\n\u001b[1;32m    524\u001b[0m send_kwargs \u001b[39m=\u001b[39m {\n\u001b[1;32m    525\u001b[0m     \u001b[39m'\u001b[39m\u001b[39mtimeout\u001b[39m\u001b[39m'\u001b[39m: timeout,\n\u001b[1;32m    526\u001b[0m     \u001b[39m'\u001b[39m\u001b[39mallow_redirects\u001b[39m\u001b[39m'\u001b[39m: allow_redirects,\n\u001b[1;32m    527\u001b[0m }\n\u001b[1;32m    528\u001b[0m send_kwargs\u001b[39m.\u001b[39mupdate(settings)\n\u001b[0;32m--> 529\u001b[0m resp \u001b[39m=\u001b[39m \u001b[39mself\u001b[39;49m\u001b[39m.\u001b[39;49msend(prep, \u001b[39m*\u001b[39;49m\u001b[39m*\u001b[39;49msend_kwargs)\n\u001b[1;32m    531\u001b[0m \u001b[39mreturn\u001b[39;00m resp\n",
      "File \u001b[0;32m~/miniforge3/envs/diy/lib/python3.9/site-packages/requests/sessions.py:645\u001b[0m, in \u001b[0;36mSession.send\u001b[0;34m(self, request, **kwargs)\u001b[0m\n\u001b[1;32m    642\u001b[0m start \u001b[39m=\u001b[39m preferred_clock()\n\u001b[1;32m    644\u001b[0m \u001b[39m# Send the request\u001b[39;00m\n\u001b[0;32m--> 645\u001b[0m r \u001b[39m=\u001b[39m adapter\u001b[39m.\u001b[39;49msend(request, \u001b[39m*\u001b[39;49m\u001b[39m*\u001b[39;49mkwargs)\n\u001b[1;32m    647\u001b[0m \u001b[39m# Total elapsed time of the request (approximately)\u001b[39;00m\n\u001b[1;32m    648\u001b[0m elapsed \u001b[39m=\u001b[39m preferred_clock() \u001b[39m-\u001b[39m start\n",
      "File \u001b[0;32m~/miniforge3/envs/diy/lib/python3.9/site-packages/requests/adapters.py:519\u001b[0m, in \u001b[0;36mHTTPAdapter.send\u001b[0;34m(self, request, stream, timeout, verify, cert, proxies)\u001b[0m\n\u001b[1;32m    515\u001b[0m     \u001b[39mif\u001b[39;00m \u001b[39misinstance\u001b[39m(e\u001b[39m.\u001b[39mreason, _SSLError):\n\u001b[1;32m    516\u001b[0m         \u001b[39m# This branch is for urllib3 v1.22 and later.\u001b[39;00m\n\u001b[1;32m    517\u001b[0m         \u001b[39mraise\u001b[39;00m SSLError(e, request\u001b[39m=\u001b[39mrequest)\n\u001b[0;32m--> 519\u001b[0m     \u001b[39mraise\u001b[39;00m \u001b[39mConnectionError\u001b[39;00m(e, request\u001b[39m=\u001b[39mrequest)\n\u001b[1;32m    521\u001b[0m \u001b[39mexcept\u001b[39;00m ClosedPoolError \u001b[39mas\u001b[39;00m e:\n\u001b[1;32m    522\u001b[0m     \u001b[39mraise\u001b[39;00m \u001b[39mConnectionError\u001b[39;00m(e, request\u001b[39m=\u001b[39mrequest)\n",
      "\u001b[0;31mConnectionError\u001b[0m: HTTPConnectionPool(host='localhost', port=8000): Max retries exceeded with url: /create/Consumption (Caused by NewConnectionError('<urllib3.connection.HTTPConnection object at 0x13ed69df0>: Failed to establish a new connection: [Errno 61] Connection refused'))"
     ]
    }
   ],
   "source": [
    "rq=requests.post(\"http://localhost:8000/create/Consumption\",\"[]\")\n",
    "rq"
   ]
  },
  {
   "cell_type": "code",
   "execution_count": null,
   "metadata": {},
   "outputs": [],
   "source": []
  },
  {
   "attachments": {},
   "cell_type": "markdown",
   "metadata": {},
   "source": [
    "### Get the consumption data from backend"
   ]
  },
  {
   "cell_type": "code",
   "execution_count": 43,
   "metadata": {},
   "outputs": [
    {
     "data": {
      "text/plain": [
       "(30, '2023-01-09T23:41:15.245604+01:00 ')"
      ]
     },
     "execution_count": 43,
     "metadata": {},
     "output_type": "execute_result"
    }
   ],
   "source": [
    "startDate=\"2023-01-09T23\"\n",
    "url=f\"{backendUrl}/getAll/consumption?startDate={startDate}\"\n",
    "message=requests.get(url).json()\n",
    "len(message[\"data\"]),max([d[\"consumptionDate\"] for d in message[\"data\"]])"
   ]
  },
  {
   "cell_type": "code",
   "execution_count": 40,
   "metadata": {},
   "outputs": [
    {
     "data": {
      "text/plain": [
       "[('2023-01-09T23:19:52.214789+01:00 ', 0),\n",
       " ('2023-01-09T23:19:52.214789+01:00 ', 1),\n",
       " ('2023-01-09T23:19:52.214789+01:00 ', 2),\n",
       " ('2023-01-09T23:19:52.214789+01:00 ', 3),\n",
       " ('2023-01-09T23:19:52.214789+01:00 ', 4),\n",
       " ('2023-01-09T23:20:55.884766+01:00 ', 0),\n",
       " ('2023-01-09T23:20:55.884766+01:00 ', 1),\n",
       " ('2023-01-09T23:20:55.884766+01:00 ', 2),\n",
       " ('2023-01-09T23:20:55.884766+01:00 ', 3),\n",
       " ('2023-01-09T23:20:55.884766+01:00 ', 4),\n",
       " ('2023-01-09T23:26:10.893127+01:00 ', 0),\n",
       " ('2023-01-09T23:26:10.893127+01:00 ', 1),\n",
       " ('2023-01-09T23:26:10.893127+01:00 ', 2),\n",
       " ('2023-01-09T23:26:10.893127+01:00 ', 3),\n",
       " ('2023-01-09T23:26:10.893127+01:00 ', 4),\n",
       " ('2023-01-09T23:39:05.603868+01:00 ', 0),\n",
       " ('2023-01-09T23:39:05.603868+01:00 ', 1),\n",
       " ('2023-01-09T23:39:05.603868+01:00 ', 2),\n",
       " ('2023-01-09T23:39:05.603868+01:00 ', 3),\n",
       " ('2023-01-09T23:39:05.603868+01:00 ', 4),\n",
       " ('2023-01-09T23:40:10.810182+01:00 ', 0),\n",
       " ('2023-01-09T23:40:10.810182+01:00 ', 1),\n",
       " ('2023-01-09T23:40:10.810182+01:00 ', 2),\n",
       " ('2023-01-09T23:40:10.810182+01:00 ', 3),\n",
       " ('2023-01-09T23:40:10.810182+01:00 ', 4)]"
      ]
     },
     "execution_count": 40,
     "metadata": {},
     "output_type": "execute_result"
    }
   ],
   "source": [
    "sorted([(d[\"consumptionDate\"],d[\"deviceNumber\"]) for d in message[\"data\"]])"
   ]
  },
  {
   "cell_type": "code",
   "execution_count": 41,
   "metadata": {},
   "outputs": [
    {
     "data": {
      "text/html": [
       "<div>\n",
       "<style scoped>\n",
       "    .dataframe tbody tr th:only-of-type {\n",
       "        vertical-align: middle;\n",
       "    }\n",
       "\n",
       "    .dataframe tbody tr th {\n",
       "        vertical-align: top;\n",
       "    }\n",
       "\n",
       "    .dataframe thead th {\n",
       "        text-align: right;\n",
       "    }\n",
       "</style>\n",
       "<table border=\"1\" class=\"dataframe\">\n",
       "  <thead>\n",
       "    <tr style=\"text-align: right;\">\n",
       "      <th></th>\n",
       "      <th>consumptionDate</th>\n",
       "      <th>deviceType</th>\n",
       "      <th>deviceNumber</th>\n",
       "      <th>updatedAt</th>\n",
       "      <th>createdAt</th>\n",
       "      <th>consumption</th>\n",
       "      <th>SK</th>\n",
       "      <th>details</th>\n",
       "      <th>PK</th>\n",
       "      <th>id</th>\n",
       "      <th>kwh</th>\n",
       "    </tr>\n",
       "  </thead>\n",
       "  <tbody>\n",
       "    <tr>\n",
       "      <th>10</th>\n",
       "      <td>2023-01-09T23:40:10.810182+01:00</td>\n",
       "      <td>oven</td>\n",
       "      <td>1</td>\n",
       "      <td>2023-01-09T22:40:13.861Z</td>\n",
       "      <td>2023-01-09T22:40:13.861Z</td>\n",
       "      <td>[0, 0, 39.65829, 0, 0]</td>\n",
       "      <td>CONSUMPTION#oven</td>\n",
       "      <td>[0, 0, 64, 0, 0]</td>\n",
       "      <td>CONSUMPTION#ef9f30f7-cdf2-4648-93ee-d73fe5e0de3e</td>\n",
       "      <td>ef9f30f7-cdf2-4648-93ee-d73fe5e0de3e</td>\n",
       "      <td>39.65829</td>\n",
       "    </tr>\n",
       "    <tr>\n",
       "      <th>8</th>\n",
       "      <td>2023-01-09T23:40:10.810182+01:00</td>\n",
       "      <td>unknown</td>\n",
       "      <td>4</td>\n",
       "      <td>2023-01-09T22:40:13.861Z</td>\n",
       "      <td>2023-01-09T22:40:13.861Z</td>\n",
       "      <td>[0, 17.56027, 18.50404, 0, 0]</td>\n",
       "      <td>CONSUMPTION#unknown</td>\n",
       "      <td>[0, 32, 32, 0, 0]</td>\n",
       "      <td>CONSUMPTION#2d796cb6-182e-4935-9152-c7084cae0c17</td>\n",
       "      <td>2d796cb6-182e-4935-9152-c7084cae0c17</td>\n",
       "      <td>36.06431</td>\n",
       "    </tr>\n",
       "    <tr>\n",
       "      <th>2</th>\n",
       "      <td>2023-01-09T23:40:10.810182+01:00</td>\n",
       "      <td>unknown</td>\n",
       "      <td>0</td>\n",
       "      <td>2023-01-09T22:40:13.861Z</td>\n",
       "      <td>2023-01-09T22:40:13.861Z</td>\n",
       "      <td>[0, 0, 34.2224, 19.10643, 0]</td>\n",
       "      <td>CONSUMPTION#unknown</td>\n",
       "      <td>[0, 0, 41, 22, 0]</td>\n",
       "      <td>CONSUMPTION#b6b6f10d-8a12-4146-8c4c-85aeffdba9ef</td>\n",
       "      <td>b6b6f10d-8a12-4146-8c4c-85aeffdba9ef</td>\n",
       "      <td>53.32883</td>\n",
       "    </tr>\n",
       "    <tr>\n",
       "      <th>23</th>\n",
       "      <td>2023-01-09T23:40:10.810182+01:00</td>\n",
       "      <td>unknown</td>\n",
       "      <td>3</td>\n",
       "      <td>2023-01-09T22:40:13.861Z</td>\n",
       "      <td>2023-01-09T22:40:13.861Z</td>\n",
       "      <td>[0, 34.01936, 0, 0, 0]</td>\n",
       "      <td>CONSUMPTION#unknown</td>\n",
       "      <td>[0, 64, 0, 0, 0]</td>\n",
       "      <td>CONSUMPTION#77195d19-8fd7-460b-9a8e-d6a2ad1c2de4</td>\n",
       "      <td>77195d19-8fd7-460b-9a8e-d6a2ad1c2de4</td>\n",
       "      <td>34.01936</td>\n",
       "    </tr>\n",
       "    <tr>\n",
       "      <th>24</th>\n",
       "      <td>2023-01-09T23:40:10.810182+01:00</td>\n",
       "      <td>washingMachine</td>\n",
       "      <td>2</td>\n",
       "      <td>2023-01-09T22:40:13.861Z</td>\n",
       "      <td>2023-01-09T22:40:13.861Z</td>\n",
       "      <td>[0, 0, 38.4864, 0, 0]</td>\n",
       "      <td>CONSUMPTION#washingMachine</td>\n",
       "      <td>[0, 0, 64, 0, 0]</td>\n",
       "      <td>CONSUMPTION#3d8954ae-e308-4102-a934-0c6f7112b60a</td>\n",
       "      <td>3d8954ae-e308-4102-a934-0c6f7112b60a</td>\n",
       "      <td>38.48640</td>\n",
       "    </tr>\n",
       "  </tbody>\n",
       "</table>\n",
       "</div>"
      ],
      "text/plain": [
       "                      consumptionDate      deviceType  deviceNumber  \\\n",
       "10  2023-01-09T23:40:10.810182+01:00             oven             1   \n",
       "8   2023-01-09T23:40:10.810182+01:00          unknown             4   \n",
       "2   2023-01-09T23:40:10.810182+01:00          unknown             0   \n",
       "23  2023-01-09T23:40:10.810182+01:00          unknown             3   \n",
       "24  2023-01-09T23:40:10.810182+01:00   washingMachine             2   \n",
       "\n",
       "                   updatedAt                 createdAt  \\\n",
       "10  2023-01-09T22:40:13.861Z  2023-01-09T22:40:13.861Z   \n",
       "8   2023-01-09T22:40:13.861Z  2023-01-09T22:40:13.861Z   \n",
       "2   2023-01-09T22:40:13.861Z  2023-01-09T22:40:13.861Z   \n",
       "23  2023-01-09T22:40:13.861Z  2023-01-09T22:40:13.861Z   \n",
       "24  2023-01-09T22:40:13.861Z  2023-01-09T22:40:13.861Z   \n",
       "\n",
       "                      consumption                          SK  \\\n",
       "10         [0, 0, 39.65829, 0, 0]            CONSUMPTION#oven   \n",
       "8   [0, 17.56027, 18.50404, 0, 0]         CONSUMPTION#unknown   \n",
       "2    [0, 0, 34.2224, 19.10643, 0]         CONSUMPTION#unknown   \n",
       "23         [0, 34.01936, 0, 0, 0]         CONSUMPTION#unknown   \n",
       "24          [0, 0, 38.4864, 0, 0]  CONSUMPTION#washingMachine   \n",
       "\n",
       "              details                                                PK  \\\n",
       "10   [0, 0, 64, 0, 0]  CONSUMPTION#ef9f30f7-cdf2-4648-93ee-d73fe5e0de3e   \n",
       "8   [0, 32, 32, 0, 0]  CONSUMPTION#2d796cb6-182e-4935-9152-c7084cae0c17   \n",
       "2   [0, 0, 41, 22, 0]  CONSUMPTION#b6b6f10d-8a12-4146-8c4c-85aeffdba9ef   \n",
       "23   [0, 64, 0, 0, 0]  CONSUMPTION#77195d19-8fd7-460b-9a8e-d6a2ad1c2de4   \n",
       "24   [0, 0, 64, 0, 0]  CONSUMPTION#3d8954ae-e308-4102-a934-0c6f7112b60a   \n",
       "\n",
       "                                      id       kwh  \n",
       "10  ef9f30f7-cdf2-4648-93ee-d73fe5e0de3e  39.65829  \n",
       "8   2d796cb6-182e-4935-9152-c7084cae0c17  36.06431  \n",
       "2   b6b6f10d-8a12-4146-8c4c-85aeffdba9ef  53.32883  \n",
       "23  77195d19-8fd7-460b-9a8e-d6a2ad1c2de4  34.01936  \n",
       "24  3d8954ae-e308-4102-a934-0c6f7112b60a  38.48640  "
      ]
     },
     "execution_count": 41,
     "metadata": {},
     "output_type": "execute_result"
    }
   ],
   "source": [
    "data=pd.DataFrame(message[\"data\"])\n",
    "data.loc[:,\"kwh\"]=[ sum(c) for c in data.consumption]\n",
    "\n",
    "data.sort_values(\"consumptionDate\").tail()"
   ]
  },
  {
   "cell_type": "code",
   "execution_count": 42,
   "metadata": {},
   "outputs": [
    {
     "data": {
      "text/plain": [
       "<AxesSubplot:xlabel='consumptionDate'>"
      ]
     },
     "execution_count": 42,
     "metadata": {},
     "output_type": "execute_result"
    },
    {
     "data": {
      "image/png": "[encoded data removed]",
      "text/plain": [
       "<Figure size 720x360 with 1 Axes>"
      ]
     },
     "metadata": {
      "needs_background": "light"
     },
     "output_type": "display_data"
    }
   ],
   "source": [
    "data.groupby([\"consumptionDate\",\"deviceType\"]).agg(kwh=(\"kwh\",\"sum\")).unstack().fillna(0).plot.bar(figsize=(10,5))"
   ]
  },
  {
   "cell_type": "code",
   "execution_count": 10,
   "metadata": {},
   "outputs": [
    {
     "data": {
      "text/html": [
       "<div>\n",
       "<style scoped>\n",
       "    .dataframe tbody tr th:only-of-type {\n",
       "        vertical-align: middle;\n",
       "    }\n",
       "\n",
       "    .dataframe tbody tr th {\n",
       "        vertical-align: top;\n",
       "    }\n",
       "\n",
       "    .dataframe thead tr th {\n",
       "        text-align: left;\n",
       "    }\n",
       "\n",
       "    .dataframe thead tr:last-of-type th {\n",
       "        text-align: right;\n",
       "    }\n",
       "</style>\n",
       "<table border=\"1\" class=\"dataframe\">\n",
       "  <thead>\n",
       "    <tr>\n",
       "      <th></th>\n",
       "      <th colspan=\"5\" halign=\"left\">kwh</th>\n",
       "      <th colspan=\"5\" halign=\"left\">ct</th>\n",
       "    </tr>\n",
       "    <tr>\n",
       "      <th>deviceNumber</th>\n",
       "      <th>0</th>\n",
       "      <th>1</th>\n",
       "      <th>2</th>\n",
       "      <th>3</th>\n",
       "      <th>4</th>\n",
       "      <th>0</th>\n",
       "      <th>1</th>\n",
       "      <th>2</th>\n",
       "      <th>3</th>\n",
       "      <th>4</th>\n",
       "    </tr>\n",
       "    <tr>\n",
       "      <th>consumptionDate</th>\n",
       "      <th></th>\n",
       "      <th></th>\n",
       "      <th></th>\n",
       "      <th></th>\n",
       "      <th></th>\n",
       "      <th></th>\n",
       "      <th></th>\n",
       "      <th></th>\n",
       "      <th></th>\n",
       "      <th></th>\n",
       "    </tr>\n",
       "  </thead>\n",
       "  <tbody>\n",
       "    <tr>\n",
       "      <th>2023-01-07T16:08:15.332631+01:00</th>\n",
       "      <td>0.000000</td>\n",
       "      <td>1.560122</td>\n",
       "      <td>0.000000</td>\n",
       "      <td>0.00000</td>\n",
       "      <td>0.000000</td>\n",
       "      <td>0.0</td>\n",
       "      <td>1.0</td>\n",
       "      <td>0.0</td>\n",
       "      <td>0.0</td>\n",
       "      <td>0.0</td>\n",
       "    </tr>\n",
       "    <tr>\n",
       "      <th>2023-01-07T16:10:57.619879</th>\n",
       "      <td>0.000000</td>\n",
       "      <td>4585.000000</td>\n",
       "      <td>0.000000</td>\n",
       "      <td>0.00000</td>\n",
       "      <td>0.000000</td>\n",
       "      <td>0.0</td>\n",
       "      <td>1.0</td>\n",
       "      <td>0.0</td>\n",
       "      <td>0.0</td>\n",
       "      <td>0.0</td>\n",
       "    </tr>\n",
       "    <tr>\n",
       "      <th>2023-03-01T16:58:11.117293+01:00</th>\n",
       "      <td>1.560122</td>\n",
       "      <td>1.663221</td>\n",
       "      <td>1.802807</td>\n",
       "      <td>1.97167</td>\n",
       "      <td>3.269307</td>\n",
       "      <td>1.0</td>\n",
       "      <td>1.0</td>\n",
       "      <td>1.0</td>\n",
       "      <td>1.0</td>\n",
       "      <td>1.0</td>\n",
       "    </tr>\n",
       "  </tbody>\n",
       "</table>\n",
       "</div>"
      ],
      "text/plain": [
       "                                        kwh                                  \\\n",
       "deviceNumber                              0            1         2        3   \n",
       "consumptionDate                                                               \n",
       "2023-01-07T16:08:15.332631+01:00   0.000000     1.560122  0.000000  0.00000   \n",
       "2023-01-07T16:10:57.619879         0.000000  4585.000000  0.000000  0.00000   \n",
       "2023-03-01T16:58:11.117293+01:00   1.560122     1.663221  1.802807  1.97167   \n",
       "\n",
       "                                              ct                      \n",
       "deviceNumber                              4    0    1    2    3    4  \n",
       "consumptionDate                                                       \n",
       "2023-01-07T16:08:15.332631+01:00   0.000000  0.0  1.0  0.0  0.0  0.0  \n",
       "2023-01-07T16:10:57.619879         0.000000  0.0  1.0  0.0  0.0  0.0  \n",
       "2023-03-01T16:58:11.117293+01:00   3.269307  1.0  1.0  1.0  1.0  1.0  "
      ]
     },
     "execution_count": 10,
     "metadata": {},
     "output_type": "execute_result"
    }
   ],
   "source": [
    "data.groupby([\"consumptionDate\",\"deviceNumber\"]).agg(kwh=(\"kwh\",\"sum\"),ct=(\"deviceNumber\",\"nunique\")).unstack().fillna(0)"
   ]
  },
  {
   "cell_type": "code",
   "execution_count": 117,
   "metadata": {},
   "outputs": [
    {
     "data": {
      "text/html": [
       "<div>\n",
       "<style scoped>\n",
       "    .dataframe tbody tr th:only-of-type {\n",
       "        vertical-align: middle;\n",
       "    }\n",
       "\n",
       "    .dataframe tbody tr th {\n",
       "        vertical-align: top;\n",
       "    }\n",
       "\n",
       "    .dataframe thead th {\n",
       "        text-align: right;\n",
       "    }\n",
       "</style>\n",
       "<table border=\"1\" class=\"dataframe\">\n",
       "  <thead>\n",
       "    <tr style=\"text-align: right;\">\n",
       "      <th></th>\n",
       "      <th>consumptionDate</th>\n",
       "      <th>deviceType</th>\n",
       "      <th>deviceNumber</th>\n",
       "      <th>updatedAt</th>\n",
       "      <th>createdAt</th>\n",
       "      <th>consumption</th>\n",
       "      <th>SK</th>\n",
       "      <th>details</th>\n",
       "      <th>PK</th>\n",
       "      <th>id</th>\n",
       "      <th>kwh</th>\n",
       "    </tr>\n",
       "  </thead>\n",
       "  <tbody>\n",
       "    <tr>\n",
       "      <th>15</th>\n",
       "      <td>2023-01-01T16:58:11.117293+01:00</td>\n",
       "      <td>oven</td>\n",
       "      <td>1</td>\n",
       "      <td>2023-01-01T15:59:15.812Z</td>\n",
       "      <td>2023-01-01T15:59:15.812Z</td>\n",
       "      <td>[1199, 702, 546, 2355, 68]</td>\n",
       "      <td>CONSUMPTION#oven</td>\n",
       "      <td>[217, 279, 290, 232, 236]</td>\n",
       "      <td>CONSUMPTION#619df004-b13f-495b-b6fb-ab5e3ffa46d9</td>\n",
       "      <td>619df004-b13f-495b-b6fb-ab5e3ffa46d9</td>\n",
       "      <td>4870.000000</td>\n",
       "    </tr>\n",
       "    <tr>\n",
       "      <th>16</th>\n",
       "      <td>2023-01-01T16:42:30.245982+01:00\\r</td>\n",
       "      <td>unknown</td>\n",
       "      <td>0</td>\n",
       "      <td>2023-01-01T15:42:31.127Z</td>\n",
       "      <td>2023-01-01T15:42:31.127Z</td>\n",
       "      <td>[0, 7.36017, 1.497986, 0.159197, 0]</td>\n",
       "      <td>CONSUMPTION#unknown</td>\n",
       "      <td>[0, 13, 2, 0, 0]</td>\n",
       "      <td>CONSUMPTION#fc1420b5-0568-47a8-b8ad-42824c20a920</td>\n",
       "      <td>fc1420b5-0568-47a8-b8ad-42824c20a920</td>\n",
       "      <td>9.017353</td>\n",
       "    </tr>\n",
       "    <tr>\n",
       "      <th>17</th>\n",
       "      <td>2023-01-01T17:36:27.042580+01:00\\r</td>\n",
       "      <td>unknown</td>\n",
       "      <td>0</td>\n",
       "      <td>2023-01-01T16:36:28.282Z</td>\n",
       "      <td>2023-01-01T16:36:28.282Z</td>\n",
       "      <td>[0, 0, 3.220851, 0.152015, 0]</td>\n",
       "      <td>CONSUMPTION#unknown</td>\n",
       "      <td>[0, 0, 5, 0, 0]</td>\n",
       "      <td>CONSUMPTION#70796b4f-a5d6-451f-8843-88266ff6702a</td>\n",
       "      <td>70796b4f-a5d6-451f-8843-88266ff6702a</td>\n",
       "      <td>3.372866</td>\n",
       "    </tr>\n",
       "    <tr>\n",
       "      <th>18</th>\n",
       "      <td>2023-01-01T16:58:11.117293+01:00</td>\n",
       "      <td>unknown</td>\n",
       "      <td>4</td>\n",
       "      <td>2023-01-01T16:48:36.968Z</td>\n",
       "      <td>2023-01-01T16:48:36.968Z</td>\n",
       "      <td>[1.194518, 2.074789, 0, 0, 0]</td>\n",
       "      <td>CONSUMPTION#unknown</td>\n",
       "      <td>[7, 5, 0, 0, 0]</td>\n",
       "      <td>CONSUMPTION#81c6f1cf-baf2-41c9-876d-08667960a055</td>\n",
       "      <td>81c6f1cf-baf2-41c9-876d-08667960a055</td>\n",
       "      <td>3.269307</td>\n",
       "    </tr>\n",
       "    <tr>\n",
       "      <th>19</th>\n",
       "      <td>2023-01-01T17:36:27.042580+01:00\\r</td>\n",
       "      <td>unknown</td>\n",
       "      <td>4</td>\n",
       "      <td>2023-01-01T16:36:28.777Z</td>\n",
       "      <td>2023-01-01T16:36:28.777Z</td>\n",
       "      <td>[0.376513, 1.428964, 0, 0, 0]</td>\n",
       "      <td>CONSUMPTION#unknown</td>\n",
       "      <td>[1, 4, 0, 0, 0]</td>\n",
       "      <td>CONSUMPTION#64924d10-e899-4723-b690-e9b51a3fb9f4</td>\n",
       "      <td>64924d10-e899-4723-b690-e9b51a3fb9f4</td>\n",
       "      <td>1.805477</td>\n",
       "    </tr>\n",
       "  </tbody>\n",
       "</table>\n",
       "</div>"
      ],
      "text/plain": [
       "                       consumptionDate deviceType  deviceNumber  \\\n",
       "15    2023-01-01T16:58:11.117293+01:00       oven             1   \n",
       "16  2023-01-01T16:42:30.245982+01:00\\r    unknown             0   \n",
       "17  2023-01-01T17:36:27.042580+01:00\\r    unknown             0   \n",
       "18   2023-01-01T16:58:11.117293+01:00     unknown             4   \n",
       "19  2023-01-01T17:36:27.042580+01:00\\r    unknown             4   \n",
       "\n",
       "                   updatedAt                 createdAt  \\\n",
       "15  2023-01-01T15:59:15.812Z  2023-01-01T15:59:15.812Z   \n",
       "16  2023-01-01T15:42:31.127Z  2023-01-01T15:42:31.127Z   \n",
       "17  2023-01-01T16:36:28.282Z  2023-01-01T16:36:28.282Z   \n",
       "18  2023-01-01T16:48:36.968Z  2023-01-01T16:48:36.968Z   \n",
       "19  2023-01-01T16:36:28.777Z  2023-01-01T16:36:28.777Z   \n",
       "\n",
       "                            consumption                   SK  \\\n",
       "15           [1199, 702, 546, 2355, 68]     CONSUMPTION#oven   \n",
       "16  [0, 7.36017, 1.497986, 0.159197, 0]  CONSUMPTION#unknown   \n",
       "17        [0, 0, 3.220851, 0.152015, 0]  CONSUMPTION#unknown   \n",
       "18        [1.194518, 2.074789, 0, 0, 0]  CONSUMPTION#unknown   \n",
       "19        [0.376513, 1.428964, 0, 0, 0]  CONSUMPTION#unknown   \n",
       "\n",
       "                      details  \\\n",
       "15  [217, 279, 290, 232, 236]   \n",
       "16           [0, 13, 2, 0, 0]   \n",
       "17            [0, 0, 5, 0, 0]   \n",
       "18            [7, 5, 0, 0, 0]   \n",
       "19            [1, 4, 0, 0, 0]   \n",
       "\n",
       "                                                  PK  \\\n",
       "15  CONSUMPTION#619df004-b13f-495b-b6fb-ab5e3ffa46d9   \n",
       "16  CONSUMPTION#fc1420b5-0568-47a8-b8ad-42824c20a920   \n",
       "17  CONSUMPTION#70796b4f-a5d6-451f-8843-88266ff6702a   \n",
       "18  CONSUMPTION#81c6f1cf-baf2-41c9-876d-08667960a055   \n",
       "19  CONSUMPTION#64924d10-e899-4723-b690-e9b51a3fb9f4   \n",
       "\n",
       "                                      id          kwh  \n",
       "15  619df004-b13f-495b-b6fb-ab5e3ffa46d9  4870.000000  \n",
       "16  fc1420b5-0568-47a8-b8ad-42824c20a920     9.017353  \n",
       "17  70796b4f-a5d6-451f-8843-88266ff6702a     3.372866  \n",
       "18  81c6f1cf-baf2-41c9-876d-08667960a055     3.269307  \n",
       "19  64924d10-e899-4723-b690-e9b51a3fb9f4     1.805477  "
      ]
     },
     "execution_count": 117,
     "metadata": {},
     "output_type": "execute_result"
    }
   ],
   "source": [
    "data.tail()"
   ]
  },
  {
   "cell_type": "code",
   "execution_count": 2,
   "metadata": {},
   "outputs": [],
   "source": [
    "import serial\n",
    "from serial.tools import list_ports"
   ]
  },
  {
   "cell_type": "code",
   "execution_count": 41,
   "metadata": {},
   "outputs": [
    {
     "data": {
      "text/plain": [
       "[157, 155, 156, 156, 149]"
      ]
     },
     "execution_count": 41,
     "metadata": {},
     "output_type": "execute_result"
    }
   ],
   "source": [
    "data=[\n",
    "{\"consumptionDate\":\"2023-03-01T16:58:11.117293+01:00 \",\"deviceNumber\":0,\"consumption\":[0.984873,0.363306,0,0,0.211943],\"details\":[11,0,0,0,0]},\n",
    "{\"consumptionDate\":\"2023-03-01T16:58:11.117293+01:00 \",\"deviceNumber\":1,\"consumption\":[0.850754,0.457867,0,0.3546,0],\"details\":[11,0,0,0,0]},\n",
    "{\"consumptionDate\":\"2023-03-01T16:58:11.117293+01:00 \",\"deviceNumber\":2,\"consumption\":[0.817416,0.45091,0,0.534481,0],\"details\":[11,0,0,0,0]},\n",
    "{\"consumptionDate\":\"2023-03-01T16:58:11.117293+01:00 \",\"deviceNumber\":3,\"consumption\":[0.79601,0.462096,0,0.713564,0],\"details\":[11,0,0,0,0]},\n",
    "{\"consumptionDate\":\"2023-03-01T16:58:11.117293+01:00 \",\"deviceNumber\":4,\"consumption\":[1.194518,2.074789,0,0,0],\"details\":[7,5,0,0,0]}\n",
    "]\n",
    "[len(json.dumps(d)) for d in data]"
   ]
  },
  {
   "cell_type": "code",
   "execution_count": 5,
   "metadata": {},
   "outputs": [
    {
     "name": "stdout",
     "output_type": "stream",
     "text": [
      "200\n",
      "200\n",
      "200\n",
      "200\n",
      "200\n"
     ]
    }
   ],
   "source": [
    "for l in data:\n",
    "    url=f\"{backendUrl}/create/consumption\"\n",
    "    rq=requests.post(url,json.dumps(l))\n",
    "    print(rq.status_code)\n"
   ]
  },
  {
   "cell_type": "code",
   "execution_count": 42,
   "metadata": {},
   "outputs": [
    {
     "data": {
      "text/plain": [
       "32"
      ]
     },
     "execution_count": 42,
     "metadata": {},
     "output_type": "execute_result"
    }
   ],
   "source": [
    "len(\"2023-03-01T16:58:11.117293+01:00\")"
   ]
  },
  {
   "cell_type": "code",
   "execution_count": 3,
   "metadata": {},
   "outputs": [
    {
     "name": "stdout",
     "output_type": "stream",
     "text": [
      "/dev/cu.usbserial-110 - USB2.0-Ser!\n"
     ]
    }
   ],
   "source": [
    "for p in list_ports.grep(\".*serial.*\"):\n",
    "    print(p)"
   ]
  },
  {
   "cell_type": "code",
   "execution_count": 18,
   "metadata": {},
   "outputs": [
    {
     "name": "stdout",
     "output_type": "stream",
     "text": [
      "/dev/cu.usbserial-110\n",
      "out: 0\n"
     ]
    },
    {
     "ename": "KeyboardInterrupt",
     "evalue": "",
     "output_type": "error",
     "traceback": [
      "\u001b[0;31m---------------------------------------------------------------------------\u001b[0m",
      "\u001b[0;31mKeyboardInterrupt\u001b[0m                         Traceback (most recent call last)",
      "\u001b[1;32m/Users/gillesv/DIY/Projects/home-energy/analysis/TestEndPoints.ipynb Cell 21\u001b[0m in \u001b[0;36m<cell line: 3>\u001b[0;34m()\u001b[0m\n\u001b[1;32m      <a href='vscode-notebook-cell:/Users/gillesv/DIY/Projects/home-energy/analysis/TestEndPoints.ipynb#X26sZmlsZQ%3D%3D?line=5'>6</a>\u001b[0m \u001b[39mprint\u001b[39m(\u001b[39m\"\u001b[39m\u001b[39mout:\u001b[39m\u001b[39m\"\u001b[39m,ser\u001b[39m.\u001b[39mout_waiting)\n\u001b[1;32m      <a href='vscode-notebook-cell:/Users/gillesv/DIY/Projects/home-energy/analysis/TestEndPoints.ipynb#X26sZmlsZQ%3D%3D?line=6'>7</a>\u001b[0m ser\u001b[39m.\u001b[39mflush()\n\u001b[0;32m----> <a href='vscode-notebook-cell:/Users/gillesv/DIY/Projects/home-energy/analysis/TestEndPoints.ipynb#X26sZmlsZQ%3D%3D?line=7'>8</a>\u001b[0m \u001b[39mwhile\u001b[39;00m ser\u001b[39m.\u001b[39;49min_waiting\u001b[39m==\u001b[39m\u001b[39m0\u001b[39m:\n\u001b[1;32m      <a href='vscode-notebook-cell:/Users/gillesv/DIY/Projects/home-energy/analysis/TestEndPoints.ipynb#X26sZmlsZQ%3D%3D?line=8'>9</a>\u001b[0m     \u001b[39mpass\u001b[39;00m\n\u001b[1;32m     <a href='vscode-notebook-cell:/Users/gillesv/DIY/Projects/home-energy/analysis/TestEndPoints.ipynb#X26sZmlsZQ%3D%3D?line=9'>10</a>\u001b[0m \u001b[39mwhile\u001b[39;00m \u001b[39mTrue\u001b[39;00m:\n",
      "File \u001b[0;32m~/miniforge3/envs/diy/lib/python3.9/site-packages/serial/serialposix.py:549\u001b[0m, in \u001b[0;36mSerial.in_waiting\u001b[0;34m(self)\u001b[0m\n\u001b[1;32m    547\u001b[0m \u001b[39m\"\"\"Return the number of bytes currently in the input buffer.\"\"\"\u001b[39;00m\n\u001b[1;32m    548\u001b[0m \u001b[39m#~ s = fcntl.ioctl(self.fd, termios.FIONREAD, TIOCM_zero_str)\u001b[39;00m\n\u001b[0;32m--> 549\u001b[0m s \u001b[39m=\u001b[39m fcntl\u001b[39m.\u001b[39;49mioctl(\u001b[39mself\u001b[39;49m\u001b[39m.\u001b[39;49mfd, TIOCINQ, TIOCM_zero_str)\n\u001b[1;32m    550\u001b[0m \u001b[39mreturn\u001b[39;00m struct\u001b[39m.\u001b[39munpack(\u001b[39m'\u001b[39m\u001b[39mI\u001b[39m\u001b[39m'\u001b[39m, s)[\u001b[39m0\u001b[39m]\n",
      "\u001b[0;31mKeyboardInterrupt\u001b[0m: "
     ]
    }
   ],
   "source": [
    "from datetime import datetime\n",
    "import serial\n",
    "with serial.Serial('/dev/cu.usbserial-110', baudrate=115200, timeout=5) as ser:\n",
    "    print(ser.name)\n",
    "    ser.write((datetime.now().isoformat()+\"\\x0D\").encode(\"utf-8\"))\n",
    "    print(\"out:\",ser.out_waiting)\n",
    "    ser.flush()\n",
    "    while ser.in_waiting==0:\n",
    "        pass\n",
    "    while True:\n",
    "        print(\"in:\",ser.in_waiting)\n",
    "        chr=ser.read()\n",
    "        if chr==b\"\\x1A\":\n",
    "            break;\n",
    "        print(chr)"
   ]
  },
  {
   "cell_type": "code",
   "execution_count": 15,
   "metadata": {},
   "outputs": [
    {
     "name": "stdout",
     "output_type": "stream",
     "text": [
      "b'2023-01-09T20:52:11.754715\\n'\n"
     ]
    }
   ],
   "source": [
    "print((datetime.now().isoformat()+\"\\x0A\").encode(\"utf-8\"))"
   ]
  },
  {
   "cell_type": "code",
   "execution_count": null,
   "metadata": {},
   "outputs": [
    {
     "name": "stdout",
     "output_type": "stream",
     "text": [
      "Help on class Serial in module serial.serialposix:\n",
      "\n",
      "class Serial(serial.serialutil.SerialBase, PlatformSpecific)\n",
      " |  Serial(port=None, baudrate=9600, bytesize=8, parity='N', stopbits=1, timeout=None, xonxoff=False, rtscts=False, write_timeout=None, dsrdtr=False, inter_byte_timeout=None, exclusive=None, **kwargs)\n",
      " |  \n",
      " |  Serial port class POSIX implementation. Serial port configuration is\n",
      " |  done with termios and fcntl. Runs on Linux and many other Un*x like\n",
      " |  systems.\n",
      " |  \n",
      " |  Method resolution order:\n",
      " |      Serial\n",
      " |      serial.serialutil.SerialBase\n",
      " |      io.RawIOBase\n",
      " |      _io._RawIOBase\n",
      " |      io.IOBase\n",
      " |      _io._IOBase\n",
      " |      PlatformSpecific\n",
      " |      PlatformSpecificBase\n",
      " |      builtins.object\n",
      " |  \n",
      " |  Methods defined here:\n",
      " |  \n",
      " |  cancel_read(self)\n",
      " |  \n",
      " |  cancel_write(self)\n",
      " |  \n",
      " |  close(self)\n",
      " |      Close port\n",
      " |  \n",
      " |  fileno(self)\n",
      " |      For easier use of the serial port instance with select.\n",
      " |      WARNING: this function is not portable to different platforms!\n",
      " |  \n",
      " |  flush(self)\n",
      " |      Flush of file like objects. In this case, wait until all data\n",
      " |      is written.\n",
      " |  \n",
      " |  nonblocking(self)\n",
      " |      DEPRECATED - has no use\n",
      " |  \n",
      " |  open(self)\n",
      " |      Open port with current settings. This may throw a SerialException\n",
      " |      if the port cannot be opened.\n",
      " |  \n",
      " |  read(self, size=1)\n",
      " |      Read size bytes from the serial port. If a timeout is set it may\n",
      " |      return less characters as requested. With no timeout it will block\n",
      " |      until the requested number of bytes is read.\n",
      " |  \n",
      " |  reset_input_buffer(self)\n",
      " |      Clear input buffer, discarding all that is in the buffer.\n",
      " |  \n",
      " |  reset_output_buffer(self)\n",
      " |      Clear output buffer, aborting the current output and discarding all\n",
      " |      that is in the buffer.\n",
      " |  \n",
      " |  send_break(self, duration=0.25)\n",
      " |      Send break condition. Timed, returns to idle state after given\n",
      " |      duration.\n",
      " |  \n",
      " |  set_input_flow_control(self, enable=True)\n",
      " |      Manually control flow - when software flow control is enabled.\n",
      " |      This will send XON (true) or XOFF (false) to the other device.\n",
      " |      WARNING: this function is not portable to different platforms!\n",
      " |  \n",
      " |  set_output_flow_control(self, enable=True)\n",
      " |      Manually control flow of outgoing data - when hardware or software flow\n",
      " |      control is enabled.\n",
      " |      WARNING: this function is not portable to different platforms!\n",
      " |  \n",
      " |  write(self, data)\n",
      " |      Output the given byte string over the serial port.\n",
      " |  \n",
      " |  ----------------------------------------------------------------------\n",
      " |  Readonly properties defined here:\n",
      " |  \n",
      " |  cd\n",
      " |      Read terminal status line: Carrier Detect\n",
      " |  \n",
      " |  cts\n",
      " |      Read terminal status line: Clear To Send\n",
      " |  \n",
      " |  dsr\n",
      " |      Read terminal status line: Data Set Ready\n",
      " |  \n",
      " |  in_waiting\n",
      " |      Return the number of bytes currently in the input buffer.\n",
      " |  \n",
      " |  out_waiting\n",
      " |      Return the number of bytes currently in the output buffer.\n",
      " |  \n",
      " |  ri\n",
      " |      Read terminal status line: Ring Indicator\n",
      " |  \n",
      " |  ----------------------------------------------------------------------\n",
      " |  Data and other attributes defined here:\n",
      " |  \n",
      " |  __abstractmethods__ = frozenset()\n",
      " |  \n",
      " |  ----------------------------------------------------------------------\n",
      " |  Methods inherited from serial.serialutil.SerialBase:\n",
      " |  \n",
      " |  __enter__(self)\n",
      " |  \n",
      " |  __exit__(self, *args, **kwargs)\n",
      " |  \n",
      " |  __init__(self, port=None, baudrate=9600, bytesize=8, parity='N', stopbits=1, timeout=None, xonxoff=False, rtscts=False, write_timeout=None, dsrdtr=False, inter_byte_timeout=None, exclusive=None, **kwargs)\n",
      " |      Initialize comm port object. If a \"port\" is given, then the port will be\n",
      " |      opened immediately. Otherwise a Serial port object in closed state\n",
      " |      is returned.\n",
      " |  \n",
      " |  __repr__(self)\n",
      " |      String representation of the current port settings and its state.\n",
      " |  \n",
      " |  applySettingsDict(self, d)\n",
      " |  \n",
      " |  apply_settings(self, d)\n",
      " |      Apply stored settings from a dictionary returned from\n",
      " |      get_settings(). It's allowed to delete keys from the dictionary. These\n",
      " |      values will simply left unchanged.\n",
      " |  \n",
      " |  flushInput(self)\n",
      " |  \n",
      " |  flushOutput(self)\n",
      " |  \n",
      " |  getCD(self)\n",
      " |  \n",
      " |  getCTS(self)\n",
      " |  \n",
      " |  getDSR(self)\n",
      " |  \n",
      " |  getRI(self)\n",
      " |  \n",
      " |  getSettingsDict(self)\n",
      " |  \n",
      " |  get_settings(self)\n",
      " |      Get current port settings as a dictionary. For use with\n",
      " |      apply_settings().\n",
      " |  \n",
      " |  inWaiting(self)\n",
      " |  \n",
      " |  iread_until(self, *args, **kwargs)\n",
      " |      Read lines, implemented as generator. It will raise StopIteration on\n",
      " |      timeout (empty read).\n",
      " |  \n",
      " |  isOpen(self)\n",
      " |  \n",
      " |  read_all(self)\n",
      " |      Read all bytes currently available in the buffer of the OS.\n",
      " |  \n",
      " |  read_until(self, expected=b'\\n', size=None)\n",
      " |      Read until an expected sequence is found ('\n",
      " |      ' by default), the size\n",
      " |              is exceeded or until timeout occurs.\n",
      " |  \n",
      " |  readable(self)\n",
      " |      Return whether object was opened for reading.\n",
      " |      \n",
      " |      If False, read() will raise OSError.\n",
      " |  \n",
      " |  readinto(self, b)\n",
      " |  \n",
      " |  seekable(self)\n",
      " |      Return whether object supports random access.\n",
      " |      \n",
      " |      If False, seek(), tell() and truncate() will raise OSError.\n",
      " |      This method may need to do a test seek().\n",
      " |  \n",
      " |  sendBreak(self, duration=0.25)\n",
      " |  \n",
      " |  setDTR(self, value=1)\n",
      " |  \n",
      " |  setPort(self, port)\n",
      " |  \n",
      " |  setRTS(self, value=1)\n",
      " |  \n",
      " |  writable(self)\n",
      " |      Return whether object was opened for writing.\n",
      " |      \n",
      " |      If False, write() will raise OSError.\n",
      " |  \n",
      " |  ----------------------------------------------------------------------\n",
      " |  Data descriptors inherited from serial.serialutil.SerialBase:\n",
      " |  \n",
      " |  baudrate\n",
      " |      Get the current baud rate setting.\n",
      " |  \n",
      " |  break_condition\n",
      " |  \n",
      " |  bytesize\n",
      " |      Get the current byte size setting.\n",
      " |  \n",
      " |  dsrdtr\n",
      " |      Get the current DSR/DTR flow control setting.\n",
      " |  \n",
      " |  dtr\n",
      " |  \n",
      " |  exclusive\n",
      " |      Get the current exclusive access setting.\n",
      " |  \n",
      " |  interCharTimeout\n",
      " |  \n",
      " |  inter_byte_timeout\n",
      " |      Get the current inter-character timeout setting.\n",
      " |  \n",
      " |  parity\n",
      " |      Get the current parity setting.\n",
      " |  \n",
      " |  port\n",
      " |      Get the current port setting. The value that was passed on init or using\n",
      " |      setPort() is passed back.\n",
      " |  \n",
      " |  rs485_mode\n",
      " |      Enable RS485 mode and apply new settings, set to None to disable.\n",
      " |      See serial.rs485.RS485Settings for more info about the value.\n",
      " |  \n",
      " |  rts\n",
      " |  \n",
      " |  rtscts\n",
      " |      Get the current RTS/CTS flow control setting.\n",
      " |  \n",
      " |  stopbits\n",
      " |      Get the current stop bits setting.\n",
      " |  \n",
      " |  timeout\n",
      " |      Get the current timeout setting.\n",
      " |  \n",
      " |  writeTimeout\n",
      " |  \n",
      " |  write_timeout\n",
      " |      Get the current timeout setting.\n",
      " |  \n",
      " |  xonxoff\n",
      " |      Get the current XON/XOFF setting.\n",
      " |  \n",
      " |  ----------------------------------------------------------------------\n",
      " |  Data and other attributes inherited from serial.serialutil.SerialBase:\n",
      " |  \n",
      " |  BAUDRATES = (50, 75, 110, 134, 150, 200, 300, 600, 1200, 1800, 2400, 4...\n",
      " |  \n",
      " |  BYTESIZES = (5, 6, 7, 8)\n",
      " |  \n",
      " |  PARITIES = ('N', 'E', 'O', 'M', 'S')\n",
      " |  \n",
      " |  STOPBITS = (1, 1.5, 2)\n",
      " |  \n",
      " |  ----------------------------------------------------------------------\n",
      " |  Methods inherited from _io._RawIOBase:\n",
      " |  \n",
      " |  readall(self, /)\n",
      " |      Read until EOF, using multiple read() call.\n",
      " |  \n",
      " |  ----------------------------------------------------------------------\n",
      " |  Methods inherited from _io._IOBase:\n",
      " |  \n",
      " |  __del__(...)\n",
      " |  \n",
      " |  __iter__(self, /)\n",
      " |      Implement iter(self).\n",
      " |  \n",
      " |  __next__(self, /)\n",
      " |      Implement next(self).\n",
      " |  \n",
      " |  isatty(self, /)\n",
      " |      Return whether this is an 'interactive' stream.\n",
      " |      \n",
      " |      Return False if it can't be determined.\n",
      " |  \n",
      " |  readline(self, size=-1, /)\n",
      " |      Read and return a line from the stream.\n",
      " |      \n",
      " |      If size is specified, at most size bytes will be read.\n",
      " |      \n",
      " |      The line terminator is always b'\\n' for binary files; for text\n",
      " |      files, the newlines argument to open can be used to select the line\n",
      " |      terminator(s) recognized.\n",
      " |  \n",
      " |  readlines(self, hint=-1, /)\n",
      " |      Return a list of lines from the stream.\n",
      " |      \n",
      " |      hint can be specified to control the number of lines read: no more\n",
      " |      lines will be read if the total size (in bytes/characters) of all\n",
      " |      lines so far exceeds hint.\n",
      " |  \n",
      " |  seek(...)\n",
      " |      Change stream position.\n",
      " |      \n",
      " |      Change the stream position to the given byte offset. The offset is\n",
      " |      interpreted relative to the position indicated by whence.  Values\n",
      " |      for whence are:\n",
      " |      \n",
      " |      * 0 -- start of stream (the default); offset should be zero or positive\n",
      " |      * 1 -- current stream position; offset may be negative\n",
      " |      * 2 -- end of stream; offset is usually negative\n",
      " |      \n",
      " |      Return the new absolute position.\n",
      " |  \n",
      " |  tell(self, /)\n",
      " |      Return current stream position.\n",
      " |  \n",
      " |  truncate(...)\n",
      " |      Truncate file to size bytes.\n",
      " |      \n",
      " |      File pointer is left unchanged.  Size defaults to the current IO\n",
      " |      position as reported by tell().  Returns the new size.\n",
      " |  \n",
      " |  writelines(self, lines, /)\n",
      " |      Write a list of lines to stream.\n",
      " |      \n",
      " |      Line separators are not added, so it is usual for each of the\n",
      " |      lines provided to have a line separator at the end.\n",
      " |  \n",
      " |  ----------------------------------------------------------------------\n",
      " |  Static methods inherited from _io._IOBase:\n",
      " |  \n",
      " |  __new__(*args, **kwargs) from builtins.type\n",
      " |      Create and return a new object.  See help(type) for accurate signature.\n",
      " |  \n",
      " |  ----------------------------------------------------------------------\n",
      " |  Data descriptors inherited from _io._IOBase:\n",
      " |  \n",
      " |  __dict__\n",
      " |  \n",
      " |  closed\n",
      " |  \n",
      " |  ----------------------------------------------------------------------\n",
      " |  Data and other attributes inherited from PlatformSpecific:\n",
      " |  \n",
      " |  TIOCCBRK = 536900730\n",
      " |  \n",
      " |  TIOCSBRK = 536900731\n",
      " |  \n",
      " |  osx_version = ['22', '2', '0']\n",
      " |  \n",
      " |  ----------------------------------------------------------------------\n",
      " |  Methods inherited from PlatformSpecificBase:\n",
      " |  \n",
      " |  set_low_latency_mode(self, low_latency_settings)\n",
      " |  \n",
      " |  ----------------------------------------------------------------------\n",
      " |  Data descriptors inherited from PlatformSpecificBase:\n",
      " |  \n",
      " |  __weakref__\n",
      " |      list of weak references to the object (if defined)\n",
      " |  \n",
      " |  ----------------------------------------------------------------------\n",
      " |  Data and other attributes inherited from PlatformSpecificBase:\n",
      " |  \n",
      " |  BAUDRATE_CONSTANTS = {}\n",
      "\n"
     ]
    }
   ],
   "source": [
    "help(serial.Serial)"
   ]
  },
  {
   "cell_type": "code",
   "execution_count": 24,
   "metadata": {},
   "outputs": [],
   "source": [
    "msg=\"\"\"{\"level\":50,\"time\":1673295884626,\"pid\":8,\"hostname\":\"169.254.143.245\",\"msg\":\"[{\\\\\"consumptionDate\\\\\":\\\\\"2023-01-09T21:24:42.268975+01:00 \\\\\",\\\\\"deviceNumber\\\\\":0,\\\\\"consumption\\\\\":[0,0,0,4.453824,0.205064],\\\\\"details\\\\\":[0,0,0,5,0]}e\\\":\\\"2023-01-09T21:24:42.268975+01:00 \\\",\\\"deviceNumber\\\":1,\\\"consumption\\\":[0,0,2.704565,0.742902,0.379641],\\\"details\\\":[0,0,4,0,0]},{\\\"consumptionDate\\\":\\\"2023-01-09T21:24:42.268975+01:00 \\\",\\\"deviceNumber\\\":2,\\\"consumption\\\":[0,0,2.619451,0.749792,0.562333],\\\"details\\\":[0,0,4,0,0]}e\\\":\\\"2023-01-09T21:24:42.268975+01:00 \\\",\\\"deviceNumber\\\":3,\\\"consumption\\\":[0,1.838362,0.475418,1.444977,0],\\\"details\\\":[0,3,0,1,0]},{\\\"consumptionDate\\\":\\\"2023-01-09T21:24:42.268975+01:00 \\\",\\\"deviceNumber\\\\\":4,\\\\\"consumption\\\\\":[0,0,3.163393,0.856815,0],\\\\\"details\\\\\":[0,0,5,0,0]}]\"}\"\"\""
   ]
  },
  {
   "cell_type": "code",
   "execution_count": 25,
   "metadata": {},
   "outputs": [
    {
     "ename": "JSONDecodeError",
     "evalue": "Expecting ',' delimiter: line 1 column 98 (char 97)",
     "output_type": "error",
     "traceback": [
      "\u001b[0;31m---------------------------------------------------------------------------\u001b[0m",
      "\u001b[0;31mJSONDecodeError\u001b[0m                           Traceback (most recent call last)",
      "\u001b[1;32m/Users/gillesv/DIY/Projects/home-energy/analysis/TestEndPoints.ipynb Cell 25\u001b[0m in \u001b[0;36m<cell line: 2>\u001b[0;34m()\u001b[0m\n\u001b[1;32m      <a href='vscode-notebook-cell:/Users/gillesv/DIY/Projects/home-energy/analysis/TestEndPoints.ipynb#X33sZmlsZQ%3D%3D?line=0'>1</a>\u001b[0m \u001b[39mimport\u001b[39;00m \u001b[39mjson\u001b[39;00m\n\u001b[0;32m----> <a href='vscode-notebook-cell:/Users/gillesv/DIY/Projects/home-energy/analysis/TestEndPoints.ipynb#X33sZmlsZQ%3D%3D?line=1'>2</a>\u001b[0m json\u001b[39m.\u001b[39;49mloads(msg)\n",
      "File \u001b[0;32m~/miniforge3/envs/diy/lib/python3.9/json/__init__.py:346\u001b[0m, in \u001b[0;36mloads\u001b[0;34m(s, cls, object_hook, parse_float, parse_int, parse_constant, object_pairs_hook, **kw)\u001b[0m\n\u001b[1;32m    341\u001b[0m     s \u001b[39m=\u001b[39m s\u001b[39m.\u001b[39mdecode(detect_encoding(s), \u001b[39m'\u001b[39m\u001b[39msurrogatepass\u001b[39m\u001b[39m'\u001b[39m)\n\u001b[1;32m    343\u001b[0m \u001b[39mif\u001b[39;00m (\u001b[39mcls\u001b[39m \u001b[39mis\u001b[39;00m \u001b[39mNone\u001b[39;00m \u001b[39mand\u001b[39;00m object_hook \u001b[39mis\u001b[39;00m \u001b[39mNone\u001b[39;00m \u001b[39mand\u001b[39;00m\n\u001b[1;32m    344\u001b[0m         parse_int \u001b[39mis\u001b[39;00m \u001b[39mNone\u001b[39;00m \u001b[39mand\u001b[39;00m parse_float \u001b[39mis\u001b[39;00m \u001b[39mNone\u001b[39;00m \u001b[39mand\u001b[39;00m\n\u001b[1;32m    345\u001b[0m         parse_constant \u001b[39mis\u001b[39;00m \u001b[39mNone\u001b[39;00m \u001b[39mand\u001b[39;00m object_pairs_hook \u001b[39mis\u001b[39;00m \u001b[39mNone\u001b[39;00m \u001b[39mand\u001b[39;00m \u001b[39mnot\u001b[39;00m kw):\n\u001b[0;32m--> 346\u001b[0m     \u001b[39mreturn\u001b[39;00m _default_decoder\u001b[39m.\u001b[39;49mdecode(s)\n\u001b[1;32m    347\u001b[0m \u001b[39mif\u001b[39;00m \u001b[39mcls\u001b[39m \u001b[39mis\u001b[39;00m \u001b[39mNone\u001b[39;00m:\n\u001b[1;32m    348\u001b[0m     \u001b[39mcls\u001b[39m \u001b[39m=\u001b[39m JSONDecoder\n",
      "File \u001b[0;32m~/miniforge3/envs/diy/lib/python3.9/json/decoder.py:337\u001b[0m, in \u001b[0;36mJSONDecoder.decode\u001b[0;34m(self, s, _w)\u001b[0m\n\u001b[1;32m    332\u001b[0m \u001b[39mdef\u001b[39;00m \u001b[39mdecode\u001b[39m(\u001b[39mself\u001b[39m, s, _w\u001b[39m=\u001b[39mWHITESPACE\u001b[39m.\u001b[39mmatch):\n\u001b[1;32m    333\u001b[0m     \u001b[39m\"\"\"Return the Python representation of ``s`` (a ``str`` instance\u001b[39;00m\n\u001b[1;32m    334\u001b[0m \u001b[39m    containing a JSON document).\u001b[39;00m\n\u001b[1;32m    335\u001b[0m \n\u001b[1;32m    336\u001b[0m \u001b[39m    \"\"\"\u001b[39;00m\n\u001b[0;32m--> 337\u001b[0m     obj, end \u001b[39m=\u001b[39m \u001b[39mself\u001b[39;49m\u001b[39m.\u001b[39;49mraw_decode(s, idx\u001b[39m=\u001b[39;49m_w(s, \u001b[39m0\u001b[39;49m)\u001b[39m.\u001b[39;49mend())\n\u001b[1;32m    338\u001b[0m     end \u001b[39m=\u001b[39m _w(s, end)\u001b[39m.\u001b[39mend()\n\u001b[1;32m    339\u001b[0m     \u001b[39mif\u001b[39;00m end \u001b[39m!=\u001b[39m \u001b[39mlen\u001b[39m(s):\n",
      "File \u001b[0;32m~/miniforge3/envs/diy/lib/python3.9/json/decoder.py:353\u001b[0m, in \u001b[0;36mJSONDecoder.raw_decode\u001b[0;34m(self, s, idx)\u001b[0m\n\u001b[1;32m    344\u001b[0m \u001b[39m\"\"\"Decode a JSON document from ``s`` (a ``str`` beginning with\u001b[39;00m\n\u001b[1;32m    345\u001b[0m \u001b[39ma JSON document) and return a 2-tuple of the Python\u001b[39;00m\n\u001b[1;32m    346\u001b[0m \u001b[39mrepresentation and the index in ``s`` where the document ended.\u001b[39;00m\n\u001b[0;32m   (...)\u001b[0m\n\u001b[1;32m    350\u001b[0m \n\u001b[1;32m    351\u001b[0m \u001b[39m\"\"\"\u001b[39;00m\n\u001b[1;32m    352\u001b[0m \u001b[39mtry\u001b[39;00m:\n\u001b[0;32m--> 353\u001b[0m     obj, end \u001b[39m=\u001b[39m \u001b[39mself\u001b[39;49m\u001b[39m.\u001b[39;49mscan_once(s, idx)\n\u001b[1;32m    354\u001b[0m \u001b[39mexcept\u001b[39;00m \u001b[39mStopIteration\u001b[39;00m \u001b[39mas\u001b[39;00m err:\n\u001b[1;32m    355\u001b[0m     \u001b[39mraise\u001b[39;00m JSONDecodeError(\u001b[39m\"\u001b[39m\u001b[39mExpecting value\u001b[39m\u001b[39m\"\u001b[39m, s, err\u001b[39m.\u001b[39mvalue) \u001b[39mfrom\u001b[39;00m \u001b[39mNone\u001b[39m\n",
      "\u001b[0;31mJSONDecodeError\u001b[0m: Expecting ',' delimiter: line 1 column 98 (char 97)"
     ]
    }
   ],
   "source": [
    "import json\n",
    "json.loads(msg)"
   ]
  },
  {
   "cell_type": "code",
   "execution_count": 22,
   "metadata": {},
   "outputs": [
    {
     "data": {
      "text/plain": [
       "'\"consumptionDate\":\"2023-01-09T21:24:42.268975+01:00 \",\"deviceNumber\":0,\"consumption\":[0,0,0,4.453824,0.205064],\"details\":[0,0,0,5,0]}e\":\"2023-01-09T21:24:42.268975+01:00 \",\"deviceNumber\":1,\"consumption\":[0,0,2.704565,0.742902,0.379641],\"details\":[0,0,4,0,0]},{\"consumptionDate\":\"2023-01-09T21:24:42.268975+01:00 \",\"deviceNumber\":2,\"consumption\":[0,0,2.619451,0.749792,0.562333],\"details\":[0,0,4,0,0]}e\":\"2023-01-09T21:24:42.268975+01:00 \",\"deviceNumber\":3,\"consumption\":[0,1.838362,0.475418,1.444977,0],\"details\":[0,3,0,1,0]},{\"consumptionDate\":\"2023-01-09T21:24:42.268975+01:00 \",\"deviceNumber\":4,\"consumption\":[0,0,3.163393,0.856815,0],\"details\":[0,0,5,0,0]}]\"}'"
      ]
     },
     "execution_count": 22,
     "metadata": {},
     "output_type": "execute_result"
    }
   ],
   "source": [
    "msg[79:]"
   ]
  },
  {
   "cell_type": "code",
   "execution_count": null,
   "metadata": {},
   "outputs": [],
   "source": []
  }
 ],
 "metadata": {
  "kernelspec": {
   "display_name": "diy",
   "language": "python",
   "name": "python3"
  },
  "language_info": {
   "codemirror_mode": {
    "name": "ipython",
    "version": 3
   },
   "file_extension": ".py",
   "mimetype": "text/x-python",
   "name": "python",
   "nbconvert_exporter": "python",
   "pygments_lexer": "ipython3",
   "version": "3.9.10"
  },
  "orig_nbformat": 4,
  "vscode": {
   "interpreter": {
    "hash": "49e9a17f76932f0cb11e99c677f931348dbd380cd0bb0dd16a057ce9ccf38ce4"
   }
  }
 },
 "nbformat": 4,
 "nbformat_minor": 2
}
