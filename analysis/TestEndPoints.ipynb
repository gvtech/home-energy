{
 "cells": [
  {
   "cell_type": "code",
   "execution_count": 4,
   "metadata": {},
   "outputs": [],
   "source": [
    "import requests\n",
    "from datetime import datetime\n",
    "import json\n",
    "import pandas as pd"
   ]
  },
  {
   "attachments": {},
   "cell_type": "markdown",
   "metadata": {},
   "source": [
    "# Test the different endpoint from the API"
   ]
  },
  {
   "cell_type": "code",
   "execution_count": 5,
   "metadata": {},
   "outputs": [],
   "source": [
    "backendUrl=\"https://exj7xp8iog.execute-api.eu-west-3.amazonaws.com/laurent\"\n"
   ]
  },
  {
   "attachments": {},
   "cell_type": "markdown",
   "metadata": {},
   "source": [
    "### Create a consumption record"
   ]
  },
  {
   "cell_type": "code",
   "execution_count": 30,
   "metadata": {},
   "outputs": [
    {
     "name": "stdout",
     "output_type": "stream",
     "text": [
      "0 200\n",
      "1 200\n",
      "2 200\n",
      "3 200\n",
      "4 200\n"
     ]
    }
   ],
   "source": [
    "from random import randrange\n",
    "def get_consumption(device,ts):\n",
    "    return {\n",
    "        \"consumptionDate\":ts,\n",
    "        \"consumption\": [randrange(10,3000) for _ in range(5)],\n",
    "        \"deviceNumber\": device,\n",
    "        \"details\": [randrange(100,300) for _ in range(5)]\n",
    "        }\n",
    "\n",
    "ts=datetime.now().isoformat()\n",
    "for device in range(0,5):\n",
    "    data=json.dumps(get_consumption(device,ts))\n",
    "    url=f\"{backendUrl}/create/consumption\"\n",
    "    rq=requests.post(url,data)\n",
    "    print(device,rq.status_code)"
   ]
  },
  {
   "cell_type": "code",
   "execution_count": 7,
   "metadata": {},
   "outputs": [
    {
     "data": {
      "text/plain": [
       "'{\"consumptionDate\": \"2023-01-07T16:10:57.619879\", \"consumption\": [2180, 178, 63, 1129, 1035], \"deviceNumber\": 1, \"details\": [256, 267, 205, 241, 244]}'"
      ]
     },
     "execution_count": 7,
     "metadata": {},
     "output_type": "execute_result"
    }
   ],
   "source": [
    "data"
   ]
  },
  {
   "cell_type": "code",
   "execution_count": 37,
   "metadata": {},
   "outputs": [
    {
     "data": {
      "text/plain": [
       "<Response [501]>"
      ]
     },
     "execution_count": 37,
     "metadata": {},
     "output_type": "execute_result"
    }
   ],
   "source": [
    "rq=requests.post(\"http://localhost:8000/create/Consumption\",\"[]\")\n",
    "rq"
   ]
  },
  {
   "cell_type": "code",
   "execution_count": null,
   "metadata": {},
   "outputs": [],
   "source": []
  },
  {
   "attachments": {},
   "cell_type": "markdown",
   "metadata": {},
   "source": [
    "### Get the consumption data from backend"
   ]
  },
  {
   "cell_type": "code",
   "execution_count": 76,
   "metadata": {},
   "outputs": [
    {
     "data": {
      "text/plain": [
       "(2, '2023-01-08T18:24:52.107Z')"
      ]
     },
     "execution_count": 76,
     "metadata": {},
     "output_type": "execute_result"
    }
   ],
   "source": [
    "startDate=\"2023-01-08T18\"\n",
    "url=f\"{backendUrl}/getAll/consumption?startDate={startDate}\"\n",
    "message=requests.get(url).json()\n",
    "len(message[\"data\"]),max([d[\"consumptionDate\"] for d in message[\"data\"]])"
   ]
  },
  {
   "cell_type": "code",
   "execution_count": 77,
   "metadata": {},
   "outputs": [
    {
     "data": {
      "text/plain": [
       "[('2023-01-08T18:24:52.107Z', 1), ('2023-01-08T18:24:52.107Z', 1)]"
      ]
     },
     "execution_count": 77,
     "metadata": {},
     "output_type": "execute_result"
    }
   ],
   "source": [
    "sorted([(d[\"consumptionDate\"],d[\"deviceNumber\"]) for d in message[\"data\"]])"
   ]
  },
  {
   "cell_type": "code",
   "execution_count": 75,
   "metadata": {},
   "outputs": [
    {
     "data": {
      "text/html": [
       "<div>\n",
       "<style scoped>\n",
       "    .dataframe tbody tr th:only-of-type {\n",
       "        vertical-align: middle;\n",
       "    }\n",
       "\n",
       "    .dataframe tbody tr th {\n",
       "        vertical-align: top;\n",
       "    }\n",
       "\n",
       "    .dataframe thead th {\n",
       "        text-align: right;\n",
       "    }\n",
       "</style>\n",
       "<table border=\"1\" class=\"dataframe\">\n",
       "  <thead>\n",
       "    <tr style=\"text-align: right;\">\n",
       "      <th></th>\n",
       "      <th>consumptionDate</th>\n",
       "      <th>deviceType</th>\n",
       "      <th>deviceNumber</th>\n",
       "      <th>updatedAt</th>\n",
       "      <th>createdAt</th>\n",
       "      <th>consumption</th>\n",
       "      <th>SK</th>\n",
       "      <th>details</th>\n",
       "      <th>PK</th>\n",
       "      <th>id</th>\n",
       "      <th>kwh</th>\n",
       "    </tr>\n",
       "  </thead>\n",
       "  <tbody>\n",
       "    <tr>\n",
       "      <th>29</th>\n",
       "      <td>2023-01-08T18:18:28.111546+01:00</td>\n",
       "      <td>unknown</td>\n",
       "      <td>4</td>\n",
       "      <td>2023-01-08T17:18:29.394Z</td>\n",
       "      <td>2023-01-08T17:18:29.394Z</td>\n",
       "      <td>[2.603612, 0, 0, 0, 0]</td>\n",
       "      <td>CONSUMPTION#unknown</td>\n",
       "      <td>[10, 0, 0, 0, 0]</td>\n",
       "      <td>CONSUMPTION#a983835b-c995-4788-abe5-52e2d0c47c37</td>\n",
       "      <td>a983835b-c995-4788-abe5-52e2d0c47c37</td>\n",
       "      <td>2.603612</td>\n",
       "    </tr>\n",
       "    <tr>\n",
       "      <th>12</th>\n",
       "      <td>2023-01-08T18:18:51.602035+01:00</td>\n",
       "      <td>unknown</td>\n",
       "      <td>3</td>\n",
       "      <td>2023-01-08T17:18:52.820Z</td>\n",
       "      <td>2023-01-08T17:18:52.820Z</td>\n",
       "      <td>[2.723669, 0, 0, 0, 0]</td>\n",
       "      <td>CONSUMPTION#unknown</td>\n",
       "      <td>[10, 0, 0, 0, 0]</td>\n",
       "      <td>CONSUMPTION#292ea21e-3c11-41b7-8707-b358c286ae26</td>\n",
       "      <td>292ea21e-3c11-41b7-8707-b358c286ae26</td>\n",
       "      <td>2.723669</td>\n",
       "    </tr>\n",
       "    <tr>\n",
       "      <th>5</th>\n",
       "      <td>2023-01-08T18:18:51.602035+01:00</td>\n",
       "      <td>unknown</td>\n",
       "      <td>4</td>\n",
       "      <td>2023-01-08T17:18:52.930Z</td>\n",
       "      <td>2023-01-08T17:18:52.930Z</td>\n",
       "      <td>[2.615454, 0, 0, 0, 0]</td>\n",
       "      <td>CONSUMPTION#unknown</td>\n",
       "      <td>[10, 0, 0, 0, 0]</td>\n",
       "      <td>CONSUMPTION#5f4d4158-51c7-4a9c-9d92-4a5c29caa186</td>\n",
       "      <td>5f4d4158-51c7-4a9c-9d92-4a5c29caa186</td>\n",
       "      <td>2.615454</td>\n",
       "    </tr>\n",
       "    <tr>\n",
       "      <th>4</th>\n",
       "      <td>2023-01-08T18:19:15.164334+01:00</td>\n",
       "      <td>unknown</td>\n",
       "      <td>4</td>\n",
       "      <td>2023-01-08T17:19:24.151Z</td>\n",
       "      <td>2023-01-08T17:19:24.151Z</td>\n",
       "      <td>[2.599408, 0, 0, 0, 0]</td>\n",
       "      <td>CONSUMPTION#unknown</td>\n",
       "      <td>[10, 0, 0, 0, 0]</td>\n",
       "      <td>CONSUMPTION#75499c24-a999-4327-b021-516097da397f</td>\n",
       "      <td>75499c24-a999-4327-b021-516097da397f</td>\n",
       "      <td>2.599408</td>\n",
       "    </tr>\n",
       "    <tr>\n",
       "      <th>13</th>\n",
       "      <td>2023-01-08T18:23:33.911793+01:00</td>\n",
       "      <td>unknown</td>\n",
       "      <td>4</td>\n",
       "      <td>2023-01-08T17:23:34.937Z</td>\n",
       "      <td>2023-01-08T17:23:34.937Z</td>\n",
       "      <td>[0, 18.80601, 0, 0, 0]</td>\n",
       "      <td>CONSUMPTION#unknown</td>\n",
       "      <td>[0, 59, 0, 0, 0]</td>\n",
       "      <td>CONSUMPTION#08d39efa-b650-4da1-b527-1fe966a028fd</td>\n",
       "      <td>08d39efa-b650-4da1-b527-1fe966a028fd</td>\n",
       "      <td>18.806010</td>\n",
       "    </tr>\n",
       "  </tbody>\n",
       "</table>\n",
       "</div>"
      ],
      "text/plain": [
       "                      consumptionDate deviceType  deviceNumber  \\\n",
       "29  2023-01-08T18:18:28.111546+01:00     unknown             4   \n",
       "12  2023-01-08T18:18:51.602035+01:00     unknown             3   \n",
       "5   2023-01-08T18:18:51.602035+01:00     unknown             4   \n",
       "4   2023-01-08T18:19:15.164334+01:00     unknown             4   \n",
       "13  2023-01-08T18:23:33.911793+01:00     unknown             4   \n",
       "\n",
       "                   updatedAt                 createdAt  \\\n",
       "29  2023-01-08T17:18:29.394Z  2023-01-08T17:18:29.394Z   \n",
       "12  2023-01-08T17:18:52.820Z  2023-01-08T17:18:52.820Z   \n",
       "5   2023-01-08T17:18:52.930Z  2023-01-08T17:18:52.930Z   \n",
       "4   2023-01-08T17:19:24.151Z  2023-01-08T17:19:24.151Z   \n",
       "13  2023-01-08T17:23:34.937Z  2023-01-08T17:23:34.937Z   \n",
       "\n",
       "               consumption                   SK           details  \\\n",
       "29  [2.603612, 0, 0, 0, 0]  CONSUMPTION#unknown  [10, 0, 0, 0, 0]   \n",
       "12  [2.723669, 0, 0, 0, 0]  CONSUMPTION#unknown  [10, 0, 0, 0, 0]   \n",
       "5   [2.615454, 0, 0, 0, 0]  CONSUMPTION#unknown  [10, 0, 0, 0, 0]   \n",
       "4   [2.599408, 0, 0, 0, 0]  CONSUMPTION#unknown  [10, 0, 0, 0, 0]   \n",
       "13  [0, 18.80601, 0, 0, 0]  CONSUMPTION#unknown  [0, 59, 0, 0, 0]   \n",
       "\n",
       "                                                  PK  \\\n",
       "29  CONSUMPTION#a983835b-c995-4788-abe5-52e2d0c47c37   \n",
       "12  CONSUMPTION#292ea21e-3c11-41b7-8707-b358c286ae26   \n",
       "5   CONSUMPTION#5f4d4158-51c7-4a9c-9d92-4a5c29caa186   \n",
       "4   CONSUMPTION#75499c24-a999-4327-b021-516097da397f   \n",
       "13  CONSUMPTION#08d39efa-b650-4da1-b527-1fe966a028fd   \n",
       "\n",
       "                                      id        kwh  \n",
       "29  a983835b-c995-4788-abe5-52e2d0c47c37   2.603612  \n",
       "12  292ea21e-3c11-41b7-8707-b358c286ae26   2.723669  \n",
       "5   5f4d4158-51c7-4a9c-9d92-4a5c29caa186   2.615454  \n",
       "4   75499c24-a999-4327-b021-516097da397f   2.599408  \n",
       "13  08d39efa-b650-4da1-b527-1fe966a028fd  18.806010  "
      ]
     },
     "execution_count": 75,
     "metadata": {},
     "output_type": "execute_result"
    }
   ],
   "source": [
    "data=pd.DataFrame(message[\"data\"])\n",
    "data.loc[:,\"kwh\"]=[ sum(c) for c in data.consumption]\n",
    "\n",
    "data.sort_values(\"consumptionDate\").tail()"
   ]
  },
  {
   "cell_type": "code",
   "execution_count": 14,
   "metadata": {},
   "outputs": [
    {
     "data": {
      "text/plain": [
       "<AxesSubplot:xlabel='consumptionDate'>"
      ]
     },
     "execution_count": 14,
     "metadata": {},
     "output_type": "execute_result"
    },
    {
     "name": "stderr",
     "output_type": "stream",
     "text": [
      ") missing from current font.vs/diy/lib/python3.9/site-packages/IPython/core/pylabtools.py:151: UserWarning: Glyph 13 (\n",
      "  fig.canvas.print_figure(bytes_io, **kw)\n"
     ]
    },
    {
     "data": {
      "image/png": "[encoded data removed]",
      "text/plain": [
       "<Figure size 720x360 with 1 Axes>"
      ]
     },
     "metadata": {
      "needs_background": "light"
     },
     "output_type": "display_data"
    }
   ],
   "source": [
    "data.groupby([\"consumptionDate\",\"deviceType\"]).agg(kwh=(\"kwh\",\"sum\")).unstack().fillna(0).plot.bar(figsize=(10,5))"
   ]
  },
  {
   "cell_type": "code",
   "execution_count": 10,
   "metadata": {},
   "outputs": [
    {
     "data": {
      "text/html": [
       "<div>\n",
       "<style scoped>\n",
       "    .dataframe tbody tr th:only-of-type {\n",
       "        vertical-align: middle;\n",
       "    }\n",
       "\n",
       "    .dataframe tbody tr th {\n",
       "        vertical-align: top;\n",
       "    }\n",
       "\n",
       "    .dataframe thead tr th {\n",
       "        text-align: left;\n",
       "    }\n",
       "\n",
       "    .dataframe thead tr:last-of-type th {\n",
       "        text-align: right;\n",
       "    }\n",
       "</style>\n",
       "<table border=\"1\" class=\"dataframe\">\n",
       "  <thead>\n",
       "    <tr>\n",
       "      <th></th>\n",
       "      <th colspan=\"5\" halign=\"left\">kwh</th>\n",
       "      <th colspan=\"5\" halign=\"left\">ct</th>\n",
       "    </tr>\n",
       "    <tr>\n",
       "      <th>deviceNumber</th>\n",
       "      <th>0</th>\n",
       "      <th>1</th>\n",
       "      <th>2</th>\n",
       "      <th>3</th>\n",
       "      <th>4</th>\n",
       "      <th>0</th>\n",
       "      <th>1</th>\n",
       "      <th>2</th>\n",
       "      <th>3</th>\n",
       "      <th>4</th>\n",
       "    </tr>\n",
       "    <tr>\n",
       "      <th>consumptionDate</th>\n",
       "      <th></th>\n",
       "      <th></th>\n",
       "      <th></th>\n",
       "      <th></th>\n",
       "      <th></th>\n",
       "      <th></th>\n",
       "      <th></th>\n",
       "      <th></th>\n",
       "      <th></th>\n",
       "      <th></th>\n",
       "    </tr>\n",
       "  </thead>\n",
       "  <tbody>\n",
       "    <tr>\n",
       "      <th>2023-01-07T16:08:15.332631+01:00</th>\n",
       "      <td>0.000000</td>\n",
       "      <td>1.560122</td>\n",
       "      <td>0.000000</td>\n",
       "      <td>0.00000</td>\n",
       "      <td>0.000000</td>\n",
       "      <td>0.0</td>\n",
       "      <td>1.0</td>\n",
       "      <td>0.0</td>\n",
       "      <td>0.0</td>\n",
       "      <td>0.0</td>\n",
       "    </tr>\n",
       "    <tr>\n",
       "      <th>2023-01-07T16:10:57.619879</th>\n",
       "      <td>0.000000</td>\n",
       "      <td>4585.000000</td>\n",
       "      <td>0.000000</td>\n",
       "      <td>0.00000</td>\n",
       "      <td>0.000000</td>\n",
       "      <td>0.0</td>\n",
       "      <td>1.0</td>\n",
       "      <td>0.0</td>\n",
       "      <td>0.0</td>\n",
       "      <td>0.0</td>\n",
       "    </tr>\n",
       "    <tr>\n",
       "      <th>2023-03-01T16:58:11.117293+01:00</th>\n",
       "      <td>1.560122</td>\n",
       "      <td>1.663221</td>\n",
       "      <td>1.802807</td>\n",
       "      <td>1.97167</td>\n",
       "      <td>3.269307</td>\n",
       "      <td>1.0</td>\n",
       "      <td>1.0</td>\n",
       "      <td>1.0</td>\n",
       "      <td>1.0</td>\n",
       "      <td>1.0</td>\n",
       "    </tr>\n",
       "  </tbody>\n",
       "</table>\n",
       "</div>"
      ],
      "text/plain": [
       "                                        kwh                                  \\\n",
       "deviceNumber                              0            1         2        3   \n",
       "consumptionDate                                                               \n",
       "2023-01-07T16:08:15.332631+01:00   0.000000     1.560122  0.000000  0.00000   \n",
       "2023-01-07T16:10:57.619879         0.000000  4585.000000  0.000000  0.00000   \n",
       "2023-03-01T16:58:11.117293+01:00   1.560122     1.663221  1.802807  1.97167   \n",
       "\n",
       "                                              ct                      \n",
       "deviceNumber                              4    0    1    2    3    4  \n",
       "consumptionDate                                                       \n",
       "2023-01-07T16:08:15.332631+01:00   0.000000  0.0  1.0  0.0  0.0  0.0  \n",
       "2023-01-07T16:10:57.619879         0.000000  0.0  1.0  0.0  0.0  0.0  \n",
       "2023-03-01T16:58:11.117293+01:00   3.269307  1.0  1.0  1.0  1.0  1.0  "
      ]
     },
     "execution_count": 10,
     "metadata": {},
     "output_type": "execute_result"
    }
   ],
   "source": [
    "data.groupby([\"consumptionDate\",\"deviceNumber\"]).agg(kwh=(\"kwh\",\"sum\"),ct=(\"deviceNumber\",\"nunique\")).unstack().fillna(0)"
   ]
  },
  {
   "cell_type": "code",
   "execution_count": 117,
   "metadata": {},
   "outputs": [
    {
     "data": {
      "text/html": [
       "<div>\n",
       "<style scoped>\n",
       "    .dataframe tbody tr th:only-of-type {\n",
       "        vertical-align: middle;\n",
       "    }\n",
       "\n",
       "    .dataframe tbody tr th {\n",
       "        vertical-align: top;\n",
       "    }\n",
       "\n",
       "    .dataframe thead th {\n",
       "        text-align: right;\n",
       "    }\n",
       "</style>\n",
       "<table border=\"1\" class=\"dataframe\">\n",
       "  <thead>\n",
       "    <tr style=\"text-align: right;\">\n",
       "      <th></th>\n",
       "      <th>consumptionDate</th>\n",
       "      <th>deviceType</th>\n",
       "      <th>deviceNumber</th>\n",
       "      <th>updatedAt</th>\n",
       "      <th>createdAt</th>\n",
       "      <th>consumption</th>\n",
       "      <th>SK</th>\n",
       "      <th>details</th>\n",
       "      <th>PK</th>\n",
       "      <th>id</th>\n",
       "      <th>kwh</th>\n",
       "    </tr>\n",
       "  </thead>\n",
       "  <tbody>\n",
       "    <tr>\n",
       "      <th>15</th>\n",
       "      <td>2023-01-01T16:58:11.117293+01:00</td>\n",
       "      <td>oven</td>\n",
       "      <td>1</td>\n",
       "      <td>2023-01-01T15:59:15.812Z</td>\n",
       "      <td>2023-01-01T15:59:15.812Z</td>\n",
       "      <td>[1199, 702, 546, 2355, 68]</td>\n",
       "      <td>CONSUMPTION#oven</td>\n",
       "      <td>[217, 279, 290, 232, 236]</td>\n",
       "      <td>CONSUMPTION#619df004-b13f-495b-b6fb-ab5e3ffa46d9</td>\n",
       "      <td>619df004-b13f-495b-b6fb-ab5e3ffa46d9</td>\n",
       "      <td>4870.000000</td>\n",
       "    </tr>\n",
       "    <tr>\n",
       "      <th>16</th>\n",
       "      <td>2023-01-01T16:42:30.245982+01:00\\r</td>\n",
       "      <td>unknown</td>\n",
       "      <td>0</td>\n",
       "      <td>2023-01-01T15:42:31.127Z</td>\n",
       "      <td>2023-01-01T15:42:31.127Z</td>\n",
       "      <td>[0, 7.36017, 1.497986, 0.159197, 0]</td>\n",
       "      <td>CONSUMPTION#unknown</td>\n",
       "      <td>[0, 13, 2, 0, 0]</td>\n",
       "      <td>CONSUMPTION#fc1420b5-0568-47a8-b8ad-42824c20a920</td>\n",
       "      <td>fc1420b5-0568-47a8-b8ad-42824c20a920</td>\n",
       "      <td>9.017353</td>\n",
       "    </tr>\n",
       "    <tr>\n",
       "      <th>17</th>\n",
       "      <td>2023-01-01T17:36:27.042580+01:00\\r</td>\n",
       "      <td>unknown</td>\n",
       "      <td>0</td>\n",
       "      <td>2023-01-01T16:36:28.282Z</td>\n",
       "      <td>2023-01-01T16:36:28.282Z</td>\n",
       "      <td>[0, 0, 3.220851, 0.152015, 0]</td>\n",
       "      <td>CONSUMPTION#unknown</td>\n",
       "      <td>[0, 0, 5, 0, 0]</td>\n",
       "      <td>CONSUMPTION#70796b4f-a5d6-451f-8843-88266ff6702a</td>\n",
       "      <td>70796b4f-a5d6-451f-8843-88266ff6702a</td>\n",
       "      <td>3.372866</td>\n",
       "    </tr>\n",
       "    <tr>\n",
       "      <th>18</th>\n",
       "      <td>2023-01-01T16:58:11.117293+01:00</td>\n",
       "      <td>unknown</td>\n",
       "      <td>4</td>\n",
       "      <td>2023-01-01T16:48:36.968Z</td>\n",
       "      <td>2023-01-01T16:48:36.968Z</td>\n",
       "      <td>[1.194518, 2.074789, 0, 0, 0]</td>\n",
       "      <td>CONSUMPTION#unknown</td>\n",
       "      <td>[7, 5, 0, 0, 0]</td>\n",
       "      <td>CONSUMPTION#81c6f1cf-baf2-41c9-876d-08667960a055</td>\n",
       "      <td>81c6f1cf-baf2-41c9-876d-08667960a055</td>\n",
       "      <td>3.269307</td>\n",
       "    </tr>\n",
       "    <tr>\n",
       "      <th>19</th>\n",
       "      <td>2023-01-01T17:36:27.042580+01:00\\r</td>\n",
       "      <td>unknown</td>\n",
       "      <td>4</td>\n",
       "      <td>2023-01-01T16:36:28.777Z</td>\n",
       "      <td>2023-01-01T16:36:28.777Z</td>\n",
       "      <td>[0.376513, 1.428964, 0, 0, 0]</td>\n",
       "      <td>CONSUMPTION#unknown</td>\n",
       "      <td>[1, 4, 0, 0, 0]</td>\n",
       "      <td>CONSUMPTION#64924d10-e899-4723-b690-e9b51a3fb9f4</td>\n",
       "      <td>64924d10-e899-4723-b690-e9b51a3fb9f4</td>\n",
       "      <td>1.805477</td>\n",
       "    </tr>\n",
       "  </tbody>\n",
       "</table>\n",
       "</div>"
      ],
      "text/plain": [
       "                       consumptionDate deviceType  deviceNumber  \\\n",
       "15    2023-01-01T16:58:11.117293+01:00       oven             1   \n",
       "16  2023-01-01T16:42:30.245982+01:00\\r    unknown             0   \n",
       "17  2023-01-01T17:36:27.042580+01:00\\r    unknown             0   \n",
       "18   2023-01-01T16:58:11.117293+01:00     unknown             4   \n",
       "19  2023-01-01T17:36:27.042580+01:00\\r    unknown             4   \n",
       "\n",
       "                   updatedAt                 createdAt  \\\n",
       "15  2023-01-01T15:59:15.812Z  2023-01-01T15:59:15.812Z   \n",
       "16  2023-01-01T15:42:31.127Z  2023-01-01T15:42:31.127Z   \n",
       "17  2023-01-01T16:36:28.282Z  2023-01-01T16:36:28.282Z   \n",
       "18  2023-01-01T16:48:36.968Z  2023-01-01T16:48:36.968Z   \n",
       "19  2023-01-01T16:36:28.777Z  2023-01-01T16:36:28.777Z   \n",
       "\n",
       "                            consumption                   SK  \\\n",
       "15           [1199, 702, 546, 2355, 68]     CONSUMPTION#oven   \n",
       "16  [0, 7.36017, 1.497986, 0.159197, 0]  CONSUMPTION#unknown   \n",
       "17        [0, 0, 3.220851, 0.152015, 0]  CONSUMPTION#unknown   \n",
       "18        [1.194518, 2.074789, 0, 0, 0]  CONSUMPTION#unknown   \n",
       "19        [0.376513, 1.428964, 0, 0, 0]  CONSUMPTION#unknown   \n",
       "\n",
       "                      details  \\\n",
       "15  [217, 279, 290, 232, 236]   \n",
       "16           [0, 13, 2, 0, 0]   \n",
       "17            [0, 0, 5, 0, 0]   \n",
       "18            [7, 5, 0, 0, 0]   \n",
       "19            [1, 4, 0, 0, 0]   \n",
       "\n",
       "                                                  PK  \\\n",
       "15  CONSUMPTION#619df004-b13f-495b-b6fb-ab5e3ffa46d9   \n",
       "16  CONSUMPTION#fc1420b5-0568-47a8-b8ad-42824c20a920   \n",
       "17  CONSUMPTION#70796b4f-a5d6-451f-8843-88266ff6702a   \n",
       "18  CONSUMPTION#81c6f1cf-baf2-41c9-876d-08667960a055   \n",
       "19  CONSUMPTION#64924d10-e899-4723-b690-e9b51a3fb9f4   \n",
       "\n",
       "                                      id          kwh  \n",
       "15  619df004-b13f-495b-b6fb-ab5e3ffa46d9  4870.000000  \n",
       "16  fc1420b5-0568-47a8-b8ad-42824c20a920     9.017353  \n",
       "17  70796b4f-a5d6-451f-8843-88266ff6702a     3.372866  \n",
       "18  81c6f1cf-baf2-41c9-876d-08667960a055     3.269307  \n",
       "19  64924d10-e899-4723-b690-e9b51a3fb9f4     1.805477  "
      ]
     },
     "execution_count": 117,
     "metadata": {},
     "output_type": "execute_result"
    }
   ],
   "source": [
    "data.tail()"
   ]
  },
  {
   "cell_type": "code",
   "execution_count": 2,
   "metadata": {},
   "outputs": [],
   "source": [
    "import serial\n",
    "from serial.tools import list_ports"
   ]
  },
  {
   "cell_type": "code",
   "execution_count": 41,
   "metadata": {},
   "outputs": [
    {
     "data": {
      "text/plain": [
       "[157, 155, 156, 156, 149]"
      ]
     },
     "execution_count": 41,
     "metadata": {},
     "output_type": "execute_result"
    }
   ],
   "source": [
    "data=[\n",
    "{\"consumptionDate\":\"2023-03-01T16:58:11.117293+01:00 \",\"deviceNumber\":0,\"consumption\":[0.984873,0.363306,0,0,0.211943],\"details\":[11,0,0,0,0]},\n",
    "{\"consumptionDate\":\"2023-03-01T16:58:11.117293+01:00 \",\"deviceNumber\":1,\"consumption\":[0.850754,0.457867,0,0.3546,0],\"details\":[11,0,0,0,0]},\n",
    "{\"consumptionDate\":\"2023-03-01T16:58:11.117293+01:00 \",\"deviceNumber\":2,\"consumption\":[0.817416,0.45091,0,0.534481,0],\"details\":[11,0,0,0,0]},\n",
    "{\"consumptionDate\":\"2023-03-01T16:58:11.117293+01:00 \",\"deviceNumber\":3,\"consumption\":[0.79601,0.462096,0,0.713564,0],\"details\":[11,0,0,0,0]},\n",
    "{\"consumptionDate\":\"2023-03-01T16:58:11.117293+01:00 \",\"deviceNumber\":4,\"consumption\":[1.194518,2.074789,0,0,0],\"details\":[7,5,0,0,0]}\n",
    "]\n",
    "[len(json.dumps(d)) for d in data]"
   ]
  },
  {
   "cell_type": "code",
   "execution_count": 5,
   "metadata": {},
   "outputs": [
    {
     "name": "stdout",
     "output_type": "stream",
     "text": [
      "200\n",
      "200\n",
      "200\n",
      "200\n",
      "200\n"
     ]
    }
   ],
   "source": [
    "for l in data:\n",
    "    url=f\"{backendUrl}/create/consumption\"\n",
    "    rq=requests.post(url,json.dumps(l))\n",
    "    print(rq.status_code)\n"
   ]
  },
  {
   "cell_type": "code",
   "execution_count": 42,
   "metadata": {},
   "outputs": [
    {
     "data": {
      "text/plain": [
       "32"
      ]
     },
     "execution_count": 42,
     "metadata": {},
     "output_type": "execute_result"
    }
   ],
   "source": [
    "len(\"2023-03-01T16:58:11.117293+01:00\")"
   ]
  },
  {
   "cell_type": "code",
   "execution_count": 3,
   "metadata": {},
   "outputs": [
    {
     "name": "stdout",
     "output_type": "stream",
     "text": [
      "/dev/cu.usbserial-110 - USB2.0-Ser!\n"
     ]
    }
   ],
   "source": [
    "for p in list_ports.grep(\".*serial.*\"):\n",
    "    print(p)"
   ]
  },
  {
   "cell_type": "code",
   "execution_count": null,
   "metadata": {},
   "outputs": [
    {
     "ename": "SerialException",
     "evalue": "[Errno 2] could not open port /dev/cu.usbserial-110: [Errno 2] No such file or directory: '/dev/cu.usbserial-110'",
     "output_type": "error",
     "traceback": [
      "\u001b[0;31m---------------------------------------------------------------------------\u001b[0m",
      "\u001b[0;31mFileNotFoundError\u001b[0m                         Traceback (most recent call last)",
      "File \u001b[0;32m~/miniforge3/envs/diy/lib/python3.9/site-packages/serial/serialposix.py:322\u001b[0m, in \u001b[0;36mSerial.open\u001b[0;34m(self)\u001b[0m\n\u001b[1;32m    321\u001b[0m \u001b[39mtry\u001b[39;00m:\n\u001b[0;32m--> 322\u001b[0m     \u001b[39mself\u001b[39m\u001b[39m.\u001b[39mfd \u001b[39m=\u001b[39m os\u001b[39m.\u001b[39;49mopen(\u001b[39mself\u001b[39;49m\u001b[39m.\u001b[39;49mportstr, os\u001b[39m.\u001b[39;49mO_RDWR \u001b[39m|\u001b[39;49m os\u001b[39m.\u001b[39;49mO_NOCTTY \u001b[39m|\u001b[39;49m os\u001b[39m.\u001b[39;49mO_NONBLOCK)\n\u001b[1;32m    323\u001b[0m \u001b[39mexcept\u001b[39;00m \u001b[39mOSError\u001b[39;00m \u001b[39mas\u001b[39;00m msg:\n",
      "\u001b[0;31mFileNotFoundError\u001b[0m: [Errno 2] No such file or directory: '/dev/cu.usbserial-110'",
      "\nDuring handling of the above exception, another exception occurred:\n",
      "\u001b[0;31mSerialException\u001b[0m                           Traceback (most recent call last)",
      "\u001b[1;32m/Users/gillesv/DIY/Projects/home-energy/analysis/TestEndPoints.ipynb Cell 15\u001b[0m in \u001b[0;36m<cell line: 1>\u001b[0;34m()\u001b[0m\n\u001b[0;32m----> <a href='vscode-notebook-cell:/Users/gillesv/DIY/Projects/home-energy/analysis/TestEndPoints.ipynb#X21sZmlsZQ%3D%3D?line=0'>1</a>\u001b[0m \u001b[39mwith\u001b[39;00m serial\u001b[39m.\u001b[39;49mSerial(\u001b[39m'\u001b[39;49m\u001b[39m/dev/cu.usbserial-110\u001b[39;49m\u001b[39m'\u001b[39;49m, baudrate\u001b[39m=\u001b[39;49m\u001b[39m115200\u001b[39;49m, timeout\u001b[39m=\u001b[39;49m\u001b[39m5\u001b[39;49m) \u001b[39mas\u001b[39;00m ser:\n\u001b[1;32m      <a href='vscode-notebook-cell:/Users/gillesv/DIY/Projects/home-energy/analysis/TestEndPoints.ipynb#X21sZmlsZQ%3D%3D?line=1'>2</a>\u001b[0m     \u001b[39mprint\u001b[39m(ser\u001b[39m.\u001b[39mname)\n\u001b[1;32m      <a href='vscode-notebook-cell:/Users/gillesv/DIY/Projects/home-energy/analysis/TestEndPoints.ipynb#X21sZmlsZQ%3D%3D?line=2'>3</a>\u001b[0m     ser\u001b[39m.\u001b[39mwrite((datetime\u001b[39m.\u001b[39mnow()\u001b[39m.\u001b[39misoformat()\u001b[39m+\u001b[39m\u001b[39m\"\u001b[39m\u001b[39m\\n\u001b[39;00m\u001b[39m\"\u001b[39m)\u001b[39m.\u001b[39mencode(\u001b[39m\"\u001b[39m\u001b[39mutf-8\u001b[39m\u001b[39m\"\u001b[39m))\n",
      "File \u001b[0;32m~/miniforge3/envs/diy/lib/python3.9/site-packages/serial/serialutil.py:244\u001b[0m, in \u001b[0;36mSerialBase.__init__\u001b[0;34m(self, port, baudrate, bytesize, parity, stopbits, timeout, xonxoff, rtscts, write_timeout, dsrdtr, inter_byte_timeout, exclusive, **kwargs)\u001b[0m\n\u001b[1;32m    241\u001b[0m     \u001b[39mraise\u001b[39;00m \u001b[39mValueError\u001b[39;00m(\u001b[39m'\u001b[39m\u001b[39munexpected keyword arguments: \u001b[39m\u001b[39m{!r}\u001b[39;00m\u001b[39m'\u001b[39m\u001b[39m.\u001b[39mformat(kwargs))\n\u001b[1;32m    243\u001b[0m \u001b[39mif\u001b[39;00m port \u001b[39mis\u001b[39;00m \u001b[39mnot\u001b[39;00m \u001b[39mNone\u001b[39;00m:\n\u001b[0;32m--> 244\u001b[0m     \u001b[39mself\u001b[39;49m\u001b[39m.\u001b[39;49mopen()\n",
      "File \u001b[0;32m~/miniforge3/envs/diy/lib/python3.9/site-packages/serial/serialposix.py:325\u001b[0m, in \u001b[0;36mSerial.open\u001b[0;34m(self)\u001b[0m\n\u001b[1;32m    323\u001b[0m \u001b[39mexcept\u001b[39;00m \u001b[39mOSError\u001b[39;00m \u001b[39mas\u001b[39;00m msg:\n\u001b[1;32m    324\u001b[0m     \u001b[39mself\u001b[39m\u001b[39m.\u001b[39mfd \u001b[39m=\u001b[39m \u001b[39mNone\u001b[39;00m\n\u001b[0;32m--> 325\u001b[0m     \u001b[39mraise\u001b[39;00m SerialException(msg\u001b[39m.\u001b[39merrno, \u001b[39m\"\u001b[39m\u001b[39mcould not open port \u001b[39m\u001b[39m{}\u001b[39;00m\u001b[39m: \u001b[39m\u001b[39m{}\u001b[39;00m\u001b[39m\"\u001b[39m\u001b[39m.\u001b[39mformat(\u001b[39mself\u001b[39m\u001b[39m.\u001b[39m_port, msg))\n\u001b[1;32m    326\u001b[0m \u001b[39m#~ fcntl.fcntl(self.fd, fcntl.F_SETFL, 0)  # set blocking\u001b[39;00m\n\u001b[1;32m    328\u001b[0m \u001b[39mself\u001b[39m\u001b[39m.\u001b[39mpipe_abort_read_r, \u001b[39mself\u001b[39m\u001b[39m.\u001b[39mpipe_abort_read_w \u001b[39m=\u001b[39m \u001b[39mNone\u001b[39;00m, \u001b[39mNone\u001b[39;00m\n",
      "\u001b[0;31mSerialException\u001b[0m: [Errno 2] could not open port /dev/cu.usbserial-110: [Errno 2] No such file or directory: '/dev/cu.usbserial-110'"
     ]
    }
   ],
   "source": [
    "with serial.Serial('/dev/cu.usbserial-110', baudrate=115200, timeout=5) as ser:\n",
    "    print(ser.name)\n",
    "    ser.write((datetime.now().isoformat()+\"\\n\").encode(\"utf-8\"))\n",
    "    ser.flush()\n",
    "    for _ in range(5):\n",
    "        print(ser.readline())"
   ]
  },
  {
   "cell_type": "code",
   "execution_count": null,
   "metadata": {},
   "outputs": [
    {
     "data": {
      "text/plain": [
       "'2023-01-01T10:51:28.136502\\n'"
      ]
     },
     "execution_count": 42,
     "metadata": {},
     "output_type": "execute_result"
    }
   ],
   "source": [
    "datetime.now().isoformat()+\"\\n\""
   ]
  },
  {
   "cell_type": "code",
   "execution_count": null,
   "metadata": {},
   "outputs": [
    {
     "name": "stdout",
     "output_type": "stream",
     "text": [
      "Help on class Serial in module serial.serialposix:\n",
      "\n",
      "class Serial(serial.serialutil.SerialBase, PlatformSpecific)\n",
      " |  Serial(port=None, baudrate=9600, bytesize=8, parity='N', stopbits=1, timeout=None, xonxoff=False, rtscts=False, write_timeout=None, dsrdtr=False, inter_byte_timeout=None, exclusive=None, **kwargs)\n",
      " |  \n",
      " |  Serial port class POSIX implementation. Serial port configuration is\n",
      " |  done with termios and fcntl. Runs on Linux and many other Un*x like\n",
      " |  systems.\n",
      " |  \n",
      " |  Method resolution order:\n",
      " |      Serial\n",
      " |      serial.serialutil.SerialBase\n",
      " |      io.RawIOBase\n",
      " |      _io._RawIOBase\n",
      " |      io.IOBase\n",
      " |      _io._IOBase\n",
      " |      PlatformSpecific\n",
      " |      PlatformSpecificBase\n",
      " |      builtins.object\n",
      " |  \n",
      " |  Methods defined here:\n",
      " |  \n",
      " |  cancel_read(self)\n",
      " |  \n",
      " |  cancel_write(self)\n",
      " |  \n",
      " |  close(self)\n",
      " |      Close port\n",
      " |  \n",
      " |  fileno(self)\n",
      " |      For easier use of the serial port instance with select.\n",
      " |      WARNING: this function is not portable to different platforms!\n",
      " |  \n",
      " |  flush(self)\n",
      " |      Flush of file like objects. In this case, wait until all data\n",
      " |      is written.\n",
      " |  \n",
      " |  nonblocking(self)\n",
      " |      DEPRECATED - has no use\n",
      " |  \n",
      " |  open(self)\n",
      " |      Open port with current settings. This may throw a SerialException\n",
      " |      if the port cannot be opened.\n",
      " |  \n",
      " |  read(self, size=1)\n",
      " |      Read size bytes from the serial port. If a timeout is set it may\n",
      " |      return less characters as requested. With no timeout it will block\n",
      " |      until the requested number of bytes is read.\n",
      " |  \n",
      " |  reset_input_buffer(self)\n",
      " |      Clear input buffer, discarding all that is in the buffer.\n",
      " |  \n",
      " |  reset_output_buffer(self)\n",
      " |      Clear output buffer, aborting the current output and discarding all\n",
      " |      that is in the buffer.\n",
      " |  \n",
      " |  send_break(self, duration=0.25)\n",
      " |      Send break condition. Timed, returns to idle state after given\n",
      " |      duration.\n",
      " |  \n",
      " |  set_input_flow_control(self, enable=True)\n",
      " |      Manually control flow - when software flow control is enabled.\n",
      " |      This will send XON (true) or XOFF (false) to the other device.\n",
      " |      WARNING: this function is not portable to different platforms!\n",
      " |  \n",
      " |  set_output_flow_control(self, enable=True)\n",
      " |      Manually control flow of outgoing data - when hardware or software flow\n",
      " |      control is enabled.\n",
      " |      WARNING: this function is not portable to different platforms!\n",
      " |  \n",
      " |  write(self, data)\n",
      " |      Output the given byte string over the serial port.\n",
      " |  \n",
      " |  ----------------------------------------------------------------------\n",
      " |  Readonly properties defined here:\n",
      " |  \n",
      " |  cd\n",
      " |      Read terminal status line: Carrier Detect\n",
      " |  \n",
      " |  cts\n",
      " |      Read terminal status line: Clear To Send\n",
      " |  \n",
      " |  dsr\n",
      " |      Read terminal status line: Data Set Ready\n",
      " |  \n",
      " |  in_waiting\n",
      " |      Return the number of bytes currently in the input buffer.\n",
      " |  \n",
      " |  out_waiting\n",
      " |      Return the number of bytes currently in the output buffer.\n",
      " |  \n",
      " |  ri\n",
      " |      Read terminal status line: Ring Indicator\n",
      " |  \n",
      " |  ----------------------------------------------------------------------\n",
      " |  Data and other attributes defined here:\n",
      " |  \n",
      " |  __abstractmethods__ = frozenset()\n",
      " |  \n",
      " |  ----------------------------------------------------------------------\n",
      " |  Methods inherited from serial.serialutil.SerialBase:\n",
      " |  \n",
      " |  __enter__(self)\n",
      " |  \n",
      " |  __exit__(self, *args, **kwargs)\n",
      " |  \n",
      " |  __init__(self, port=None, baudrate=9600, bytesize=8, parity='N', stopbits=1, timeout=None, xonxoff=False, rtscts=False, write_timeout=None, dsrdtr=False, inter_byte_timeout=None, exclusive=None, **kwargs)\n",
      " |      Initialize comm port object. If a \"port\" is given, then the port will be\n",
      " |      opened immediately. Otherwise a Serial port object in closed state\n",
      " |      is returned.\n",
      " |  \n",
      " |  __repr__(self)\n",
      " |      String representation of the current port settings and its state.\n",
      " |  \n",
      " |  applySettingsDict(self, d)\n",
      " |  \n",
      " |  apply_settings(self, d)\n",
      " |      Apply stored settings from a dictionary returned from\n",
      " |      get_settings(). It's allowed to delete keys from the dictionary. These\n",
      " |      values will simply left unchanged.\n",
      " |  \n",
      " |  flushInput(self)\n",
      " |  \n",
      " |  flushOutput(self)\n",
      " |  \n",
      " |  getCD(self)\n",
      " |  \n",
      " |  getCTS(self)\n",
      " |  \n",
      " |  getDSR(self)\n",
      " |  \n",
      " |  getRI(self)\n",
      " |  \n",
      " |  getSettingsDict(self)\n",
      " |  \n",
      " |  get_settings(self)\n",
      " |      Get current port settings as a dictionary. For use with\n",
      " |      apply_settings().\n",
      " |  \n",
      " |  inWaiting(self)\n",
      " |  \n",
      " |  iread_until(self, *args, **kwargs)\n",
      " |      Read lines, implemented as generator. It will raise StopIteration on\n",
      " |      timeout (empty read).\n",
      " |  \n",
      " |  isOpen(self)\n",
      " |  \n",
      " |  read_all(self)\n",
      " |      Read all bytes currently available in the buffer of the OS.\n",
      " |  \n",
      " |  read_until(self, expected=b'\\n', size=None)\n",
      " |      Read until an expected sequence is found ('\n",
      " |      ' by default), the size\n",
      " |              is exceeded or until timeout occurs.\n",
      " |  \n",
      " |  readable(self)\n",
      " |      Return whether object was opened for reading.\n",
      " |      \n",
      " |      If False, read() will raise OSError.\n",
      " |  \n",
      " |  readinto(self, b)\n",
      " |  \n",
      " |  seekable(self)\n",
      " |      Return whether object supports random access.\n",
      " |      \n",
      " |      If False, seek(), tell() and truncate() will raise OSError.\n",
      " |      This method may need to do a test seek().\n",
      " |  \n",
      " |  sendBreak(self, duration=0.25)\n",
      " |  \n",
      " |  setDTR(self, value=1)\n",
      " |  \n",
      " |  setPort(self, port)\n",
      " |  \n",
      " |  setRTS(self, value=1)\n",
      " |  \n",
      " |  writable(self)\n",
      " |      Return whether object was opened for writing.\n",
      " |      \n",
      " |      If False, write() will raise OSError.\n",
      " |  \n",
      " |  ----------------------------------------------------------------------\n",
      " |  Data descriptors inherited from serial.serialutil.SerialBase:\n",
      " |  \n",
      " |  baudrate\n",
      " |      Get the current baud rate setting.\n",
      " |  \n",
      " |  break_condition\n",
      " |  \n",
      " |  bytesize\n",
      " |      Get the current byte size setting.\n",
      " |  \n",
      " |  dsrdtr\n",
      " |      Get the current DSR/DTR flow control setting.\n",
      " |  \n",
      " |  dtr\n",
      " |  \n",
      " |  exclusive\n",
      " |      Get the current exclusive access setting.\n",
      " |  \n",
      " |  interCharTimeout\n",
      " |  \n",
      " |  inter_byte_timeout\n",
      " |      Get the current inter-character timeout setting.\n",
      " |  \n",
      " |  parity\n",
      " |      Get the current parity setting.\n",
      " |  \n",
      " |  port\n",
      " |      Get the current port setting. The value that was passed on init or using\n",
      " |      setPort() is passed back.\n",
      " |  \n",
      " |  rs485_mode\n",
      " |      Enable RS485 mode and apply new settings, set to None to disable.\n",
      " |      See serial.rs485.RS485Settings for more info about the value.\n",
      " |  \n",
      " |  rts\n",
      " |  \n",
      " |  rtscts\n",
      " |      Get the current RTS/CTS flow control setting.\n",
      " |  \n",
      " |  stopbits\n",
      " |      Get the current stop bits setting.\n",
      " |  \n",
      " |  timeout\n",
      " |      Get the current timeout setting.\n",
      " |  \n",
      " |  writeTimeout\n",
      " |  \n",
      " |  write_timeout\n",
      " |      Get the current timeout setting.\n",
      " |  \n",
      " |  xonxoff\n",
      " |      Get the current XON/XOFF setting.\n",
      " |  \n",
      " |  ----------------------------------------------------------------------\n",
      " |  Data and other attributes inherited from serial.serialutil.SerialBase:\n",
      " |  \n",
      " |  BAUDRATES = (50, 75, 110, 134, 150, 200, 300, 600, 1200, 1800, 2400, 4...\n",
      " |  \n",
      " |  BYTESIZES = (5, 6, 7, 8)\n",
      " |  \n",
      " |  PARITIES = ('N', 'E', 'O', 'M', 'S')\n",
      " |  \n",
      " |  STOPBITS = (1, 1.5, 2)\n",
      " |  \n",
      " |  ----------------------------------------------------------------------\n",
      " |  Methods inherited from _io._RawIOBase:\n",
      " |  \n",
      " |  readall(self, /)\n",
      " |      Read until EOF, using multiple read() call.\n",
      " |  \n",
      " |  ----------------------------------------------------------------------\n",
      " |  Methods inherited from _io._IOBase:\n",
      " |  \n",
      " |  __del__(...)\n",
      " |  \n",
      " |  __iter__(self, /)\n",
      " |      Implement iter(self).\n",
      " |  \n",
      " |  __next__(self, /)\n",
      " |      Implement next(self).\n",
      " |  \n",
      " |  isatty(self, /)\n",
      " |      Return whether this is an 'interactive' stream.\n",
      " |      \n",
      " |      Return False if it can't be determined.\n",
      " |  \n",
      " |  readline(self, size=-1, /)\n",
      " |      Read and return a line from the stream.\n",
      " |      \n",
      " |      If size is specified, at most size bytes will be read.\n",
      " |      \n",
      " |      The line terminator is always b'\\n' for binary files; for text\n",
      " |      files, the newlines argument to open can be used to select the line\n",
      " |      terminator(s) recognized.\n",
      " |  \n",
      " |  readlines(self, hint=-1, /)\n",
      " |      Return a list of lines from the stream.\n",
      " |      \n",
      " |      hint can be specified to control the number of lines read: no more\n",
      " |      lines will be read if the total size (in bytes/characters) of all\n",
      " |      lines so far exceeds hint.\n",
      " |  \n",
      " |  seek(...)\n",
      " |      Change stream position.\n",
      " |      \n",
      " |      Change the stream position to the given byte offset. The offset is\n",
      " |      interpreted relative to the position indicated by whence.  Values\n",
      " |      for whence are:\n",
      " |      \n",
      " |      * 0 -- start of stream (the default); offset should be zero or positive\n",
      " |      * 1 -- current stream position; offset may be negative\n",
      " |      * 2 -- end of stream; offset is usually negative\n",
      " |      \n",
      " |      Return the new absolute position.\n",
      " |  \n",
      " |  tell(self, /)\n",
      " |      Return current stream position.\n",
      " |  \n",
      " |  truncate(...)\n",
      " |      Truncate file to size bytes.\n",
      " |      \n",
      " |      File pointer is left unchanged.  Size defaults to the current IO\n",
      " |      position as reported by tell().  Returns the new size.\n",
      " |  \n",
      " |  writelines(self, lines, /)\n",
      " |      Write a list of lines to stream.\n",
      " |      \n",
      " |      Line separators are not added, so it is usual for each of the\n",
      " |      lines provided to have a line separator at the end.\n",
      " |  \n",
      " |  ----------------------------------------------------------------------\n",
      " |  Static methods inherited from _io._IOBase:\n",
      " |  \n",
      " |  __new__(*args, **kwargs) from builtins.type\n",
      " |      Create and return a new object.  See help(type) for accurate signature.\n",
      " |  \n",
      " |  ----------------------------------------------------------------------\n",
      " |  Data descriptors inherited from _io._IOBase:\n",
      " |  \n",
      " |  __dict__\n",
      " |  \n",
      " |  closed\n",
      " |  \n",
      " |  ----------------------------------------------------------------------\n",
      " |  Data and other attributes inherited from PlatformSpecific:\n",
      " |  \n",
      " |  TIOCCBRK = 536900730\n",
      " |  \n",
      " |  TIOCSBRK = 536900731\n",
      " |  \n",
      " |  osx_version = ['22', '2', '0']\n",
      " |  \n",
      " |  ----------------------------------------------------------------------\n",
      " |  Methods inherited from PlatformSpecificBase:\n",
      " |  \n",
      " |  set_low_latency_mode(self, low_latency_settings)\n",
      " |  \n",
      " |  ----------------------------------------------------------------------\n",
      " |  Data descriptors inherited from PlatformSpecificBase:\n",
      " |  \n",
      " |  __weakref__\n",
      " |      list of weak references to the object (if defined)\n",
      " |  \n",
      " |  ----------------------------------------------------------------------\n",
      " |  Data and other attributes inherited from PlatformSpecificBase:\n",
      " |  \n",
      " |  BAUDRATE_CONSTANTS = {}\n",
      "\n"
     ]
    }
   ],
   "source": [
    "help(serial.Serial)"
   ]
  },
  {
   "cell_type": "code",
   "execution_count": null,
   "metadata": {},
   "outputs": [],
   "source": []
  }
 ],
 "metadata": {
  "kernelspec": {
   "display_name": "diy",
   "language": "python",
   "name": "python3"
  },
  "language_info": {
   "codemirror_mode": {
    "name": "ipython",
    "version": 3
   },
   "file_extension": ".py",
   "mimetype": "text/x-python",
   "name": "python",
   "nbconvert_exporter": "python",
   "pygments_lexer": "ipython3",
   "version": "3.9.10"
  },
  "orig_nbformat": 4,
  "vscode": {
   "interpreter": {
    "hash": "49e9a17f76932f0cb11e99c677f931348dbd380cd0bb0dd16a057ce9ccf38ce4"
   }
  }
 },
 "nbformat": 4,
 "nbformat_minor": 2
}
